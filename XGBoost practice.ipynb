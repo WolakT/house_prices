{
 "cells": [
  {
   "cell_type": "code",
   "execution_count": 1,
   "metadata": {},
   "outputs": [],
   "source": [
    "import pandas as pd\n",
    "import matplotlib.pyplot as plt\n",
    "from sklearn.model_selection import train_test_split\n",
    "from xgboost import XGBRegressor\n",
    "\n",
    "%matplotlib inline"
   ]
  },
  {
   "cell_type": "code",
   "execution_count": 2,
   "metadata": {},
   "outputs": [],
   "source": [
    "df_train = pd.read_csv('data/train.csv')"
   ]
  },
  {
   "cell_type": "code",
   "execution_count": 58,
   "metadata": {},
   "outputs": [],
   "source": [
    "df_test = pd.read_csv('data/test.csv')"
   ]
  },
  {
   "cell_type": "code",
   "execution_count": 59,
   "metadata": {
    "collapsed": true
   },
   "outputs": [
    {
     "name": "stdout",
     "output_type": "stream",
     "text": [
      "<class 'pandas.core.frame.DataFrame'>\n",
      "RangeIndex: 1459 entries, 0 to 1458\n",
      "Data columns (total 80 columns):\n",
      "Id               1459 non-null int64\n",
      "MSSubClass       1459 non-null int64\n",
      "MSZoning         1455 non-null object\n",
      "LotFrontage      1232 non-null float64\n",
      "LotArea          1459 non-null int64\n",
      "Street           1459 non-null object\n",
      "Alley            107 non-null object\n",
      "LotShape         1459 non-null object\n",
      "LandContour      1459 non-null object\n",
      "Utilities        1457 non-null object\n",
      "LotConfig        1459 non-null object\n",
      "LandSlope        1459 non-null object\n",
      "Neighborhood     1459 non-null object\n",
      "Condition1       1459 non-null object\n",
      "Condition2       1459 non-null object\n",
      "BldgType         1459 non-null object\n",
      "HouseStyle       1459 non-null object\n",
      "OverallQual      1459 non-null int64\n",
      "OverallCond      1459 non-null int64\n",
      "YearBuilt        1459 non-null int64\n",
      "YearRemodAdd     1459 non-null int64\n",
      "RoofStyle        1459 non-null object\n",
      "RoofMatl         1459 non-null object\n",
      "Exterior1st      1458 non-null object\n",
      "Exterior2nd      1458 non-null object\n",
      "MasVnrType       1443 non-null object\n",
      "MasVnrArea       1444 non-null float64\n",
      "ExterQual        1459 non-null object\n",
      "ExterCond        1459 non-null object\n",
      "Foundation       1459 non-null object\n",
      "BsmtQual         1415 non-null object\n",
      "BsmtCond         1414 non-null object\n",
      "BsmtExposure     1415 non-null object\n",
      "BsmtFinType1     1417 non-null object\n",
      "BsmtFinSF1       1458 non-null float64\n",
      "BsmtFinType2     1417 non-null object\n",
      "BsmtFinSF2       1458 non-null float64\n",
      "BsmtUnfSF        1458 non-null float64\n",
      "TotalBsmtSF      1458 non-null float64\n",
      "Heating          1459 non-null object\n",
      "HeatingQC        1459 non-null object\n",
      "CentralAir       1459 non-null object\n",
      "Electrical       1459 non-null object\n",
      "1stFlrSF         1459 non-null int64\n",
      "2ndFlrSF         1459 non-null int64\n",
      "LowQualFinSF     1459 non-null int64\n",
      "GrLivArea        1459 non-null int64\n",
      "BsmtFullBath     1457 non-null float64\n",
      "BsmtHalfBath     1457 non-null float64\n",
      "FullBath         1459 non-null int64\n",
      "HalfBath         1459 non-null int64\n",
      "BedroomAbvGr     1459 non-null int64\n",
      "KitchenAbvGr     1459 non-null int64\n",
      "KitchenQual      1458 non-null object\n",
      "TotRmsAbvGrd     1459 non-null int64\n",
      "Functional       1457 non-null object\n",
      "Fireplaces       1459 non-null int64\n",
      "FireplaceQu      729 non-null object\n",
      "GarageType       1383 non-null object\n",
      "GarageYrBlt      1381 non-null float64\n",
      "GarageFinish     1381 non-null object\n",
      "GarageCars       1458 non-null float64\n",
      "GarageArea       1458 non-null float64\n",
      "GarageQual       1381 non-null object\n",
      "GarageCond       1381 non-null object\n",
      "PavedDrive       1459 non-null object\n",
      "WoodDeckSF       1459 non-null int64\n",
      "OpenPorchSF      1459 non-null int64\n",
      "EnclosedPorch    1459 non-null int64\n",
      "3SsnPorch        1459 non-null int64\n",
      "ScreenPorch      1459 non-null int64\n",
      "PoolArea         1459 non-null int64\n",
      "PoolQC           3 non-null object\n",
      "Fence            290 non-null object\n",
      "MiscFeature      51 non-null object\n",
      "MiscVal          1459 non-null int64\n",
      "MoSold           1459 non-null int64\n",
      "YrSold           1459 non-null int64\n",
      "SaleType         1458 non-null object\n",
      "SaleCondition    1459 non-null object\n",
      "dtypes: float64(11), int64(26), object(43)\n",
      "memory usage: 912.0+ KB\n"
     ]
    }
   ],
   "source": [
    "df_test.info()"
   ]
  },
  {
   "cell_type": "code",
   "execution_count": 3,
   "metadata": {},
   "outputs": [],
   "source": [
    "def heal_cols(data,cols):\n",
    "    for col in cols:\n",
    "        data[col].fillna(value=int(data[col].mean()), inplace=True)"
   ]
  },
  {
   "cell_type": "code",
   "execution_count": 4,
   "metadata": {},
   "outputs": [
    {
     "data": {
      "text/html": [
       "<div>\n",
       "<style scoped>\n",
       "    .dataframe tbody tr th:only-of-type {\n",
       "        vertical-align: middle;\n",
       "    }\n",
       "\n",
       "    .dataframe tbody tr th {\n",
       "        vertical-align: top;\n",
       "    }\n",
       "\n",
       "    .dataframe thead th {\n",
       "        text-align: right;\n",
       "    }\n",
       "</style>\n",
       "<table border=\"1\" class=\"dataframe\">\n",
       "  <thead>\n",
       "    <tr style=\"text-align: right;\">\n",
       "      <th></th>\n",
       "      <th>Id</th>\n",
       "      <th>MSSubClass</th>\n",
       "      <th>MSZoning</th>\n",
       "      <th>LotFrontage</th>\n",
       "      <th>LotArea</th>\n",
       "      <th>Street</th>\n",
       "      <th>Alley</th>\n",
       "      <th>LotShape</th>\n",
       "      <th>LandContour</th>\n",
       "      <th>Utilities</th>\n",
       "      <th>...</th>\n",
       "      <th>PoolArea</th>\n",
       "      <th>PoolQC</th>\n",
       "      <th>Fence</th>\n",
       "      <th>MiscFeature</th>\n",
       "      <th>MiscVal</th>\n",
       "      <th>MoSold</th>\n",
       "      <th>YrSold</th>\n",
       "      <th>SaleType</th>\n",
       "      <th>SaleCondition</th>\n",
       "      <th>SalePrice</th>\n",
       "    </tr>\n",
       "  </thead>\n",
       "  <tbody>\n",
       "    <tr>\n",
       "      <th>0</th>\n",
       "      <td>1</td>\n",
       "      <td>60</td>\n",
       "      <td>RL</td>\n",
       "      <td>65.0</td>\n",
       "      <td>8450</td>\n",
       "      <td>Pave</td>\n",
       "      <td>NaN</td>\n",
       "      <td>Reg</td>\n",
       "      <td>Lvl</td>\n",
       "      <td>AllPub</td>\n",
       "      <td>...</td>\n",
       "      <td>0</td>\n",
       "      <td>NaN</td>\n",
       "      <td>NaN</td>\n",
       "      <td>NaN</td>\n",
       "      <td>0</td>\n",
       "      <td>2</td>\n",
       "      <td>2008</td>\n",
       "      <td>WD</td>\n",
       "      <td>Normal</td>\n",
       "      <td>208500</td>\n",
       "    </tr>\n",
       "    <tr>\n",
       "      <th>1</th>\n",
       "      <td>2</td>\n",
       "      <td>20</td>\n",
       "      <td>RL</td>\n",
       "      <td>80.0</td>\n",
       "      <td>9600</td>\n",
       "      <td>Pave</td>\n",
       "      <td>NaN</td>\n",
       "      <td>Reg</td>\n",
       "      <td>Lvl</td>\n",
       "      <td>AllPub</td>\n",
       "      <td>...</td>\n",
       "      <td>0</td>\n",
       "      <td>NaN</td>\n",
       "      <td>NaN</td>\n",
       "      <td>NaN</td>\n",
       "      <td>0</td>\n",
       "      <td>5</td>\n",
       "      <td>2007</td>\n",
       "      <td>WD</td>\n",
       "      <td>Normal</td>\n",
       "      <td>181500</td>\n",
       "    </tr>\n",
       "    <tr>\n",
       "      <th>2</th>\n",
       "      <td>3</td>\n",
       "      <td>60</td>\n",
       "      <td>RL</td>\n",
       "      <td>68.0</td>\n",
       "      <td>11250</td>\n",
       "      <td>Pave</td>\n",
       "      <td>NaN</td>\n",
       "      <td>IR1</td>\n",
       "      <td>Lvl</td>\n",
       "      <td>AllPub</td>\n",
       "      <td>...</td>\n",
       "      <td>0</td>\n",
       "      <td>NaN</td>\n",
       "      <td>NaN</td>\n",
       "      <td>NaN</td>\n",
       "      <td>0</td>\n",
       "      <td>9</td>\n",
       "      <td>2008</td>\n",
       "      <td>WD</td>\n",
       "      <td>Normal</td>\n",
       "      <td>223500</td>\n",
       "    </tr>\n",
       "    <tr>\n",
       "      <th>3</th>\n",
       "      <td>4</td>\n",
       "      <td>70</td>\n",
       "      <td>RL</td>\n",
       "      <td>60.0</td>\n",
       "      <td>9550</td>\n",
       "      <td>Pave</td>\n",
       "      <td>NaN</td>\n",
       "      <td>IR1</td>\n",
       "      <td>Lvl</td>\n",
       "      <td>AllPub</td>\n",
       "      <td>...</td>\n",
       "      <td>0</td>\n",
       "      <td>NaN</td>\n",
       "      <td>NaN</td>\n",
       "      <td>NaN</td>\n",
       "      <td>0</td>\n",
       "      <td>2</td>\n",
       "      <td>2006</td>\n",
       "      <td>WD</td>\n",
       "      <td>Abnorml</td>\n",
       "      <td>140000</td>\n",
       "    </tr>\n",
       "    <tr>\n",
       "      <th>4</th>\n",
       "      <td>5</td>\n",
       "      <td>60</td>\n",
       "      <td>RL</td>\n",
       "      <td>84.0</td>\n",
       "      <td>14260</td>\n",
       "      <td>Pave</td>\n",
       "      <td>NaN</td>\n",
       "      <td>IR1</td>\n",
       "      <td>Lvl</td>\n",
       "      <td>AllPub</td>\n",
       "      <td>...</td>\n",
       "      <td>0</td>\n",
       "      <td>NaN</td>\n",
       "      <td>NaN</td>\n",
       "      <td>NaN</td>\n",
       "      <td>0</td>\n",
       "      <td>12</td>\n",
       "      <td>2008</td>\n",
       "      <td>WD</td>\n",
       "      <td>Normal</td>\n",
       "      <td>250000</td>\n",
       "    </tr>\n",
       "  </tbody>\n",
       "</table>\n",
       "<p>5 rows × 81 columns</p>\n",
       "</div>"
      ],
      "text/plain": [
       "   Id  MSSubClass MSZoning  LotFrontage  LotArea Street Alley LotShape  \\\n",
       "0   1          60       RL         65.0     8450   Pave   NaN      Reg   \n",
       "1   2          20       RL         80.0     9600   Pave   NaN      Reg   \n",
       "2   3          60       RL         68.0    11250   Pave   NaN      IR1   \n",
       "3   4          70       RL         60.0     9550   Pave   NaN      IR1   \n",
       "4   5          60       RL         84.0    14260   Pave   NaN      IR1   \n",
       "\n",
       "  LandContour Utilities    ...     PoolArea PoolQC Fence MiscFeature MiscVal  \\\n",
       "0         Lvl    AllPub    ...            0    NaN   NaN         NaN       0   \n",
       "1         Lvl    AllPub    ...            0    NaN   NaN         NaN       0   \n",
       "2         Lvl    AllPub    ...            0    NaN   NaN         NaN       0   \n",
       "3         Lvl    AllPub    ...            0    NaN   NaN         NaN       0   \n",
       "4         Lvl    AllPub    ...            0    NaN   NaN         NaN       0   \n",
       "\n",
       "  MoSold YrSold  SaleType  SaleCondition  SalePrice  \n",
       "0      2   2008        WD         Normal     208500  \n",
       "1      5   2007        WD         Normal     181500  \n",
       "2      9   2008        WD         Normal     223500  \n",
       "3      2   2006        WD        Abnorml     140000  \n",
       "4     12   2008        WD         Normal     250000  \n",
       "\n",
       "[5 rows x 81 columns]"
      ]
     },
     "execution_count": 4,
     "metadata": {},
     "output_type": "execute_result"
    }
   ],
   "source": [
    "df_train.head()"
   ]
  },
  {
   "cell_type": "code",
   "execution_count": 5,
   "metadata": {
    "collapsed": true
   },
   "outputs": [
    {
     "name": "stdout",
     "output_type": "stream",
     "text": [
      "<class 'pandas.core.frame.DataFrame'>\n",
      "RangeIndex: 1460 entries, 0 to 1459\n",
      "Data columns (total 81 columns):\n",
      "Id               1460 non-null int64\n",
      "MSSubClass       1460 non-null int64\n",
      "MSZoning         1460 non-null object\n",
      "LotFrontage      1201 non-null float64\n",
      "LotArea          1460 non-null int64\n",
      "Street           1460 non-null object\n",
      "Alley            91 non-null object\n",
      "LotShape         1460 non-null object\n",
      "LandContour      1460 non-null object\n",
      "Utilities        1460 non-null object\n",
      "LotConfig        1460 non-null object\n",
      "LandSlope        1460 non-null object\n",
      "Neighborhood     1460 non-null object\n",
      "Condition1       1460 non-null object\n",
      "Condition2       1460 non-null object\n",
      "BldgType         1460 non-null object\n",
      "HouseStyle       1460 non-null object\n",
      "OverallQual      1460 non-null int64\n",
      "OverallCond      1460 non-null int64\n",
      "YearBuilt        1460 non-null int64\n",
      "YearRemodAdd     1460 non-null int64\n",
      "RoofStyle        1460 non-null object\n",
      "RoofMatl         1460 non-null object\n",
      "Exterior1st      1460 non-null object\n",
      "Exterior2nd      1460 non-null object\n",
      "MasVnrType       1452 non-null object\n",
      "MasVnrArea       1452 non-null float64\n",
      "ExterQual        1460 non-null object\n",
      "ExterCond        1460 non-null object\n",
      "Foundation       1460 non-null object\n",
      "BsmtQual         1423 non-null object\n",
      "BsmtCond         1423 non-null object\n",
      "BsmtExposure     1422 non-null object\n",
      "BsmtFinType1     1423 non-null object\n",
      "BsmtFinSF1       1460 non-null int64\n",
      "BsmtFinType2     1422 non-null object\n",
      "BsmtFinSF2       1460 non-null int64\n",
      "BsmtUnfSF        1460 non-null int64\n",
      "TotalBsmtSF      1460 non-null int64\n",
      "Heating          1460 non-null object\n",
      "HeatingQC        1460 non-null object\n",
      "CentralAir       1460 non-null object\n",
      "Electrical       1459 non-null object\n",
      "1stFlrSF         1460 non-null int64\n",
      "2ndFlrSF         1460 non-null int64\n",
      "LowQualFinSF     1460 non-null int64\n",
      "GrLivArea        1460 non-null int64\n",
      "BsmtFullBath     1460 non-null int64\n",
      "BsmtHalfBath     1460 non-null int64\n",
      "FullBath         1460 non-null int64\n",
      "HalfBath         1460 non-null int64\n",
      "BedroomAbvGr     1460 non-null int64\n",
      "KitchenAbvGr     1460 non-null int64\n",
      "KitchenQual      1460 non-null object\n",
      "TotRmsAbvGrd     1460 non-null int64\n",
      "Functional       1460 non-null object\n",
      "Fireplaces       1460 non-null int64\n",
      "FireplaceQu      770 non-null object\n",
      "GarageType       1379 non-null object\n",
      "GarageYrBlt      1379 non-null float64\n",
      "GarageFinish     1379 non-null object\n",
      "GarageCars       1460 non-null int64\n",
      "GarageArea       1460 non-null int64\n",
      "GarageQual       1379 non-null object\n",
      "GarageCond       1379 non-null object\n",
      "PavedDrive       1460 non-null object\n",
      "WoodDeckSF       1460 non-null int64\n",
      "OpenPorchSF      1460 non-null int64\n",
      "EnclosedPorch    1460 non-null int64\n",
      "3SsnPorch        1460 non-null int64\n",
      "ScreenPorch      1460 non-null int64\n",
      "PoolArea         1460 non-null int64\n",
      "PoolQC           7 non-null object\n",
      "Fence            281 non-null object\n",
      "MiscFeature      54 non-null object\n",
      "MiscVal          1460 non-null int64\n",
      "MoSold           1460 non-null int64\n",
      "YrSold           1460 non-null int64\n",
      "SaleType         1460 non-null object\n",
      "SaleCondition    1460 non-null object\n",
      "SalePrice        1460 non-null int64\n",
      "dtypes: float64(3), int64(35), object(43)\n",
      "memory usage: 924.0+ KB\n"
     ]
    }
   ],
   "source": [
    "df_train.info()"
   ]
  },
  {
   "cell_type": "code",
   "execution_count": 6,
   "metadata": {},
   "outputs": [],
   "source": [
    "dummies = pd.get_dummies(df_train[['Neighborhood', 'MSZoning']])"
   ]
  },
  {
   "cell_type": "code",
   "execution_count": 24,
   "metadata": {},
   "outputs": [],
   "source": [
    "test_dummies= pd.get_dummies(df_test[['Neighborhood','MSZoning']])"
   ]
  },
  {
   "cell_type": "code",
   "execution_count": 60,
   "metadata": {},
   "outputs": [],
   "source": [
    "test_all =pd.concat([df_test,test_dummies], axis='columns')"
   ]
  },
  {
   "cell_type": "code",
   "execution_count": 61,
   "metadata": {},
   "outputs": [],
   "source": [
    "train_all = pd.concat([df_train, dummies], axis='columns')"
   ]
  },
  {
   "cell_type": "code",
   "execution_count": 62,
   "metadata": {},
   "outputs": [],
   "source": [
    "final_train, final_test = train_all.align(test_all, join='left', axis=1)"
   ]
  },
  {
   "cell_type": "code",
   "execution_count": 63,
   "metadata": {},
   "outputs": [],
   "source": [
    "y = final_train.SalePrice"
   ]
  },
  {
   "cell_type": "code",
   "execution_count": 64,
   "metadata": {},
   "outputs": [],
   "source": [
    "X_test = final_test.select_dtypes(exclude=object).drop('Id',axis='columns')"
   ]
  },
  {
   "cell_type": "code",
   "execution_count": 67,
   "metadata": {
    "collapsed": true
   },
   "outputs": [
    {
     "name": "stdout",
     "output_type": "stream",
     "text": [
      "<class 'pandas.core.frame.DataFrame'>\n",
      "RangeIndex: 1459 entries, 0 to 1458\n",
      "Data columns (total 66 columns):\n",
      "MSSubClass              1459 non-null int64\n",
      "LotFrontage             1232 non-null float64\n",
      "LotArea                 1459 non-null int64\n",
      "OverallQual             1459 non-null int64\n",
      "OverallCond             1459 non-null int64\n",
      "YearBuilt               1459 non-null int64\n",
      "YearRemodAdd            1459 non-null int64\n",
      "MasVnrArea              1444 non-null float64\n",
      "BsmtFinSF1              1458 non-null float64\n",
      "BsmtFinSF2              1458 non-null float64\n",
      "BsmtUnfSF               1458 non-null float64\n",
      "TotalBsmtSF             1458 non-null float64\n",
      "1stFlrSF                1459 non-null int64\n",
      "2ndFlrSF                1459 non-null int64\n",
      "LowQualFinSF            1459 non-null int64\n",
      "GrLivArea               1459 non-null int64\n",
      "BsmtFullBath            1457 non-null float64\n",
      "BsmtHalfBath            1457 non-null float64\n",
      "FullBath                1459 non-null int64\n",
      "HalfBath                1459 non-null int64\n",
      "BedroomAbvGr            1459 non-null int64\n",
      "KitchenAbvGr            1459 non-null int64\n",
      "TotRmsAbvGrd            1459 non-null int64\n",
      "Fireplaces              1459 non-null int64\n",
      "GarageYrBlt             1381 non-null float64\n",
      "GarageCars              1458 non-null float64\n",
      "GarageArea              1458 non-null float64\n",
      "WoodDeckSF              1459 non-null int64\n",
      "OpenPorchSF             1459 non-null int64\n",
      "EnclosedPorch           1459 non-null int64\n",
      "3SsnPorch               1459 non-null int64\n",
      "ScreenPorch             1459 non-null int64\n",
      "PoolArea                1459 non-null int64\n",
      "MiscVal                 1459 non-null int64\n",
      "MoSold                  1459 non-null int64\n",
      "YrSold                  1459 non-null int64\n",
      "Neighborhood_Blmngtn    1459 non-null uint8\n",
      "Neighborhood_Blueste    1459 non-null uint8\n",
      "Neighborhood_BrDale     1459 non-null uint8\n",
      "Neighborhood_BrkSide    1459 non-null uint8\n",
      "Neighborhood_ClearCr    1459 non-null uint8\n",
      "Neighborhood_CollgCr    1459 non-null uint8\n",
      "Neighborhood_Crawfor    1459 non-null uint8\n",
      "Neighborhood_Edwards    1459 non-null uint8\n",
      "Neighborhood_Gilbert    1459 non-null uint8\n",
      "Neighborhood_IDOTRR     1459 non-null uint8\n",
      "Neighborhood_MeadowV    1459 non-null uint8\n",
      "Neighborhood_Mitchel    1459 non-null uint8\n",
      "Neighborhood_NAmes      1459 non-null uint8\n",
      "Neighborhood_NPkVill    1459 non-null uint8\n",
      "Neighborhood_NWAmes     1459 non-null uint8\n",
      "Neighborhood_NoRidge    1459 non-null uint8\n",
      "Neighborhood_NridgHt    1459 non-null uint8\n",
      "Neighborhood_OldTown    1459 non-null uint8\n",
      "Neighborhood_SWISU      1459 non-null uint8\n",
      "Neighborhood_Sawyer     1459 non-null uint8\n",
      "Neighborhood_SawyerW    1459 non-null uint8\n",
      "Neighborhood_Somerst    1459 non-null uint8\n",
      "Neighborhood_StoneBr    1459 non-null uint8\n",
      "Neighborhood_Timber     1459 non-null uint8\n",
      "Neighborhood_Veenker    1459 non-null uint8\n",
      "MSZoning_C (all)        1459 non-null uint8\n",
      "MSZoning_FV             1459 non-null uint8\n",
      "MSZoning_RH             1459 non-null uint8\n",
      "MSZoning_RL             1459 non-null uint8\n",
      "MSZoning_RM             1459 non-null uint8\n",
      "dtypes: float64(11), int64(25), uint8(30)\n",
      "memory usage: 453.2 KB\n"
     ]
    }
   ],
   "source": [
    "X_test.info()"
   ]
  },
  {
   "cell_type": "code",
   "execution_count": 66,
   "metadata": {},
   "outputs": [],
   "source": [
    "X_test.drop('SalePrice', axis='columns', inplace=True)"
   ]
  },
  {
   "cell_type": "code",
   "execution_count": 68,
   "metadata": {},
   "outputs": [],
   "source": [
    "heal_cols(X_test, X_test.columns)"
   ]
  },
  {
   "cell_type": "code",
   "execution_count": 69,
   "metadata": {},
   "outputs": [],
   "source": [
    "X = final_train.select_dtypes(exclude=object).drop(['SalePrice', 'Id'], axis='columns')"
   ]
  },
  {
   "cell_type": "code",
   "execution_count": 70,
   "metadata": {},
   "outputs": [],
   "source": [
    "heal_cols(X, X.columns)"
   ]
  },
  {
   "cell_type": "code",
   "execution_count": 71,
   "metadata": {
    "collapsed": true
   },
   "outputs": [
    {
     "name": "stdout",
     "output_type": "stream",
     "text": [
      "<class 'pandas.core.frame.DataFrame'>\n",
      "RangeIndex: 1460 entries, 0 to 1459\n",
      "Data columns (total 66 columns):\n",
      "MSSubClass              1460 non-null int64\n",
      "LotFrontage             1460 non-null float64\n",
      "LotArea                 1460 non-null int64\n",
      "OverallQual             1460 non-null int64\n",
      "OverallCond             1460 non-null int64\n",
      "YearBuilt               1460 non-null int64\n",
      "YearRemodAdd            1460 non-null int64\n",
      "MasVnrArea              1460 non-null float64\n",
      "BsmtFinSF1              1460 non-null int64\n",
      "BsmtFinSF2              1460 non-null int64\n",
      "BsmtUnfSF               1460 non-null int64\n",
      "TotalBsmtSF             1460 non-null int64\n",
      "1stFlrSF                1460 non-null int64\n",
      "2ndFlrSF                1460 non-null int64\n",
      "LowQualFinSF            1460 non-null int64\n",
      "GrLivArea               1460 non-null int64\n",
      "BsmtFullBath            1460 non-null int64\n",
      "BsmtHalfBath            1460 non-null int64\n",
      "FullBath                1460 non-null int64\n",
      "HalfBath                1460 non-null int64\n",
      "BedroomAbvGr            1460 non-null int64\n",
      "KitchenAbvGr            1460 non-null int64\n",
      "TotRmsAbvGrd            1460 non-null int64\n",
      "Fireplaces              1460 non-null int64\n",
      "GarageYrBlt             1460 non-null float64\n",
      "GarageCars              1460 non-null int64\n",
      "GarageArea              1460 non-null int64\n",
      "WoodDeckSF              1460 non-null int64\n",
      "OpenPorchSF             1460 non-null int64\n",
      "EnclosedPorch           1460 non-null int64\n",
      "3SsnPorch               1460 non-null int64\n",
      "ScreenPorch             1460 non-null int64\n",
      "PoolArea                1460 non-null int64\n",
      "MiscVal                 1460 non-null int64\n",
      "MoSold                  1460 non-null int64\n",
      "YrSold                  1460 non-null int64\n",
      "Neighborhood_Blmngtn    1460 non-null uint8\n",
      "Neighborhood_Blueste    1460 non-null uint8\n",
      "Neighborhood_BrDale     1460 non-null uint8\n",
      "Neighborhood_BrkSide    1460 non-null uint8\n",
      "Neighborhood_ClearCr    1460 non-null uint8\n",
      "Neighborhood_CollgCr    1460 non-null uint8\n",
      "Neighborhood_Crawfor    1460 non-null uint8\n",
      "Neighborhood_Edwards    1460 non-null uint8\n",
      "Neighborhood_Gilbert    1460 non-null uint8\n",
      "Neighborhood_IDOTRR     1460 non-null uint8\n",
      "Neighborhood_MeadowV    1460 non-null uint8\n",
      "Neighborhood_Mitchel    1460 non-null uint8\n",
      "Neighborhood_NAmes      1460 non-null uint8\n",
      "Neighborhood_NPkVill    1460 non-null uint8\n",
      "Neighborhood_NWAmes     1460 non-null uint8\n",
      "Neighborhood_NoRidge    1460 non-null uint8\n",
      "Neighborhood_NridgHt    1460 non-null uint8\n",
      "Neighborhood_OldTown    1460 non-null uint8\n",
      "Neighborhood_SWISU      1460 non-null uint8\n",
      "Neighborhood_Sawyer     1460 non-null uint8\n",
      "Neighborhood_SawyerW    1460 non-null uint8\n",
      "Neighborhood_Somerst    1460 non-null uint8\n",
      "Neighborhood_StoneBr    1460 non-null uint8\n",
      "Neighborhood_Timber     1460 non-null uint8\n",
      "Neighborhood_Veenker    1460 non-null uint8\n",
      "MSZoning_C (all)        1460 non-null uint8\n",
      "MSZoning_FV             1460 non-null uint8\n",
      "MSZoning_RH             1460 non-null uint8\n",
      "MSZoning_RL             1460 non-null uint8\n",
      "MSZoning_RM             1460 non-null uint8\n",
      "dtypes: float64(3), int64(33), uint8(30)\n",
      "memory usage: 453.5 KB\n"
     ]
    }
   ],
   "source": [
    "X.info()"
   ]
  },
  {
   "cell_type": "code",
   "execution_count": 72,
   "metadata": {},
   "outputs": [],
   "source": [
    "train_X, test_X, train_y, test_y = train_test_split(X,y, test_size = 0.33, random_state = 7)"
   ]
  },
  {
   "cell_type": "code",
   "execution_count": 73,
   "metadata": {},
   "outputs": [],
   "source": [
    "model = XGBRegressor(n_estimators=1000)"
   ]
  },
  {
   "cell_type": "code",
   "execution_count": 74,
   "metadata": {},
   "outputs": [
    {
     "name": "stdout",
     "output_type": "stream",
     "text": [
      "[0]\tvalidation_0-rmse:176583\tvalidation_0-mae:161552\tvalidation_1-rmse:184289\tvalidation_1-mae:166188\n",
      "Multiple eval metrics have been passed: 'validation_1-mae' will be used for early stopping.\n",
      "\n",
      "Will train until validation_1-mae hasn't improved in 7 rounds.\n",
      "[1]\tvalidation_0-rmse:160044\tvalidation_0-mae:145548\tvalidation_1-rmse:167591\tvalidation_1-mae:149910\n",
      "[2]\tvalidation_0-rmse:145143\tvalidation_0-mae:131130\tvalidation_1-rmse:152630\tvalidation_1-mae:135292\n",
      "[3]\tvalidation_0-rmse:131777\tvalidation_0-mae:118151\tvalidation_1-rmse:139171\tvalidation_1-mae:121938\n",
      "[4]\tvalidation_0-rmse:119777\tvalidation_0-mae:106483\tvalidation_1-rmse:126977\tvalidation_1-mae:109871\n",
      "[5]\tvalidation_0-rmse:109019\tvalidation_0-mae:96006.1\tvalidation_1-rmse:116171\tvalidation_1-mae:98934\n",
      "[6]\tvalidation_0-rmse:99370.6\tvalidation_0-mae:86613.7\tvalidation_1-rmse:106731\tvalidation_1-mae:89410.5\n",
      "[7]\tvalidation_0-rmse:90633.8\tvalidation_0-mae:78142.2\tvalidation_1-rmse:98037.6\tvalidation_1-mae:80782.2\n",
      "[8]\tvalidation_0-rmse:82760.3\tvalidation_0-mae:70557.1\tvalidation_1-rmse:90500.4\tvalidation_1-mae:73226.2\n",
      "[9]\tvalidation_0-rmse:75782\tvalidation_0-mae:63754.2\tvalidation_1-rmse:83611.4\tvalidation_1-mae:66250\n",
      "[10]\tvalidation_0-rmse:69486\tvalidation_0-mae:57699.7\tvalidation_1-rmse:77751.6\tvalidation_1-mae:60329.2\n",
      "[11]\tvalidation_0-rmse:63888\tvalidation_0-mae:52263.4\tvalidation_1-rmse:72422.5\tvalidation_1-mae:54943.7\n",
      "[12]\tvalidation_0-rmse:58842\tvalidation_0-mae:47489.6\tvalidation_1-rmse:67842.3\tvalidation_1-mae:50198\n",
      "[13]\tvalidation_0-rmse:54381.8\tvalidation_0-mae:43262.3\tvalidation_1-rmse:63715.1\tvalidation_1-mae:46032.2\n",
      "[14]\tvalidation_0-rmse:50367.8\tvalidation_0-mae:39491.3\tvalidation_1-rmse:60156.2\tvalidation_1-mae:42404.5\n",
      "[15]\tvalidation_0-rmse:46758.3\tvalidation_0-mae:36186.2\tvalidation_1-rmse:56839.4\tvalidation_1-mae:39199.5\n",
      "[16]\tvalidation_0-rmse:43579.3\tvalidation_0-mae:33236.7\tvalidation_1-rmse:53925\tvalidation_1-mae:36319.4\n",
      "[17]\tvalidation_0-rmse:40738.7\tvalidation_0-mae:30548.9\tvalidation_1-rmse:51598.2\tvalidation_1-mae:33765.2\n",
      "[18]\tvalidation_0-rmse:38241.5\tvalidation_0-mae:28320\tvalidation_1-rmse:49456.4\tvalidation_1-mae:31681\n",
      "[19]\tvalidation_0-rmse:36024.8\tvalidation_0-mae:26357.8\tvalidation_1-rmse:47617.9\tvalidation_1-mae:29719\n",
      "[20]\tvalidation_0-rmse:34078.7\tvalidation_0-mae:24609.7\tvalidation_1-rmse:46038.9\tvalidation_1-mae:28099\n",
      "[21]\tvalidation_0-rmse:32332.1\tvalidation_0-mae:23042.5\tvalidation_1-rmse:44670.9\tvalidation_1-mae:26631.8\n",
      "[22]\tvalidation_0-rmse:30789.8\tvalidation_0-mae:21695.3\tvalidation_1-rmse:43417.5\tvalidation_1-mae:25389.4\n",
      "[23]\tvalidation_0-rmse:29428\tvalidation_0-mae:20506.6\tvalidation_1-rmse:42285.6\tvalidation_1-mae:24266.3\n",
      "[24]\tvalidation_0-rmse:28254.3\tvalidation_0-mae:19516.6\tvalidation_1-rmse:41329\tvalidation_1-mae:23358.9\n",
      "[25]\tvalidation_0-rmse:27163.2\tvalidation_0-mae:18596.5\tvalidation_1-rmse:40410.6\tvalidation_1-mae:22571\n",
      "[26]\tvalidation_0-rmse:26228.3\tvalidation_0-mae:17867.7\tvalidation_1-rmse:39892.7\tvalidation_1-mae:22024.2\n",
      "[27]\tvalidation_0-rmse:25395\tvalidation_0-mae:17216.3\tvalidation_1-rmse:39246.9\tvalidation_1-mae:21488.9\n",
      "[28]\tvalidation_0-rmse:24618.6\tvalidation_0-mae:16623.5\tvalidation_1-rmse:38676.7\tvalidation_1-mae:21041\n",
      "[29]\tvalidation_0-rmse:23921.6\tvalidation_0-mae:16167.5\tvalidation_1-rmse:38290.2\tvalidation_1-mae:20653.6\n",
      "[30]\tvalidation_0-rmse:23295.6\tvalidation_0-mae:15734.3\tvalidation_1-rmse:37833.1\tvalidation_1-mae:20306.3\n",
      "[31]\tvalidation_0-rmse:22713.6\tvalidation_0-mae:15323.6\tvalidation_1-rmse:37703.7\tvalidation_1-mae:20124.8\n",
      "[32]\tvalidation_0-rmse:22214.9\tvalidation_0-mae:15018\tvalidation_1-rmse:37482\tvalidation_1-mae:19941.5\n",
      "[33]\tvalidation_0-rmse:21789.1\tvalidation_0-mae:14740.5\tvalidation_1-rmse:37181.3\tvalidation_1-mae:19690.3\n",
      "[34]\tvalidation_0-rmse:21362.1\tvalidation_0-mae:14489.4\tvalidation_1-rmse:36993.8\tvalidation_1-mae:19518\n",
      "[35]\tvalidation_0-rmse:20990\tvalidation_0-mae:14257.6\tvalidation_1-rmse:36705.2\tvalidation_1-mae:19330.3\n",
      "[36]\tvalidation_0-rmse:20585.2\tvalidation_0-mae:14071\tvalidation_1-rmse:36539.4\tvalidation_1-mae:19175.9\n",
      "[37]\tvalidation_0-rmse:20307.4\tvalidation_0-mae:13875.1\tvalidation_1-rmse:36377.5\tvalidation_1-mae:19053.9\n",
      "[38]\tvalidation_0-rmse:19948.1\tvalidation_0-mae:13737.4\tvalidation_1-rmse:36130.5\tvalidation_1-mae:18848\n",
      "[39]\tvalidation_0-rmse:19703.1\tvalidation_0-mae:13613.9\tvalidation_1-rmse:35991.7\tvalidation_1-mae:18757.4\n",
      "[40]\tvalidation_0-rmse:19459.5\tvalidation_0-mae:13469.2\tvalidation_1-rmse:35899.9\tvalidation_1-mae:18656.7\n",
      "[41]\tvalidation_0-rmse:19224.4\tvalidation_0-mae:13308.8\tvalidation_1-rmse:35707.6\tvalidation_1-mae:18588\n",
      "[42]\tvalidation_0-rmse:19068.7\tvalidation_0-mae:13197.3\tvalidation_1-rmse:35659.9\tvalidation_1-mae:18513\n",
      "[43]\tvalidation_0-rmse:18847.7\tvalidation_0-mae:13068\tvalidation_1-rmse:35729.3\tvalidation_1-mae:18493.7\n",
      "[44]\tvalidation_0-rmse:18642.9\tvalidation_0-mae:12922.6\tvalidation_1-rmse:35641.1\tvalidation_1-mae:18440.9\n",
      "[45]\tvalidation_0-rmse:18489.1\tvalidation_0-mae:12787\tvalidation_1-rmse:35532\tvalidation_1-mae:18325.9\n",
      "[46]\tvalidation_0-rmse:18363\tvalidation_0-mae:12722.1\tvalidation_1-rmse:35466\tvalidation_1-mae:18251.9\n",
      "[47]\tvalidation_0-rmse:18185.6\tvalidation_0-mae:12647.4\tvalidation_1-rmse:35398.8\tvalidation_1-mae:18204.8\n",
      "[48]\tvalidation_0-rmse:18039.3\tvalidation_0-mae:12535.6\tvalidation_1-rmse:35338.5\tvalidation_1-mae:18176.5\n",
      "[49]\tvalidation_0-rmse:17859.7\tvalidation_0-mae:12419.6\tvalidation_1-rmse:35301.1\tvalidation_1-mae:18110.5\n",
      "[50]\tvalidation_0-rmse:17716.8\tvalidation_0-mae:12348.9\tvalidation_1-rmse:35268\tvalidation_1-mae:18104.2\n",
      "[51]\tvalidation_0-rmse:17619.8\tvalidation_0-mae:12304.6\tvalidation_1-rmse:35237\tvalidation_1-mae:18069.4\n",
      "[52]\tvalidation_0-rmse:17515.5\tvalidation_0-mae:12201.9\tvalidation_1-rmse:35179.4\tvalidation_1-mae:17994\n",
      "[53]\tvalidation_0-rmse:17423.6\tvalidation_0-mae:12156.5\tvalidation_1-rmse:35126.3\tvalidation_1-mae:17975.1\n",
      "[54]\tvalidation_0-rmse:17325.1\tvalidation_0-mae:12095.7\tvalidation_1-rmse:34970.3\tvalidation_1-mae:17923.6\n",
      "[55]\tvalidation_0-rmse:17216.3\tvalidation_0-mae:12052.3\tvalidation_1-rmse:34883.6\tvalidation_1-mae:17874.8\n",
      "[56]\tvalidation_0-rmse:17146.8\tvalidation_0-mae:11994.7\tvalidation_1-rmse:34841.3\tvalidation_1-mae:17823.9\n",
      "[57]\tvalidation_0-rmse:17074.1\tvalidation_0-mae:11949\tvalidation_1-rmse:34834.7\tvalidation_1-mae:17827\n",
      "[58]\tvalidation_0-rmse:16983.3\tvalidation_0-mae:11912.1\tvalidation_1-rmse:34663.6\tvalidation_1-mae:17802.4\n",
      "[59]\tvalidation_0-rmse:16910.9\tvalidation_0-mae:11875.5\tvalidation_1-rmse:34634.7\tvalidation_1-mae:17786.8\n",
      "[60]\tvalidation_0-rmse:16798.3\tvalidation_0-mae:11803.5\tvalidation_1-rmse:34593.6\tvalidation_1-mae:17780.4\n",
      "[61]\tvalidation_0-rmse:16734.8\tvalidation_0-mae:11766\tvalidation_1-rmse:34572.8\tvalidation_1-mae:17755.6\n",
      "[62]\tvalidation_0-rmse:16634.1\tvalidation_0-mae:11704.2\tvalidation_1-rmse:34551.1\tvalidation_1-mae:17753.6\n",
      "[63]\tvalidation_0-rmse:16545.5\tvalidation_0-mae:11661.6\tvalidation_1-rmse:34517.1\tvalidation_1-mae:17722.8\n",
      "[64]\tvalidation_0-rmse:16469.9\tvalidation_0-mae:11634\tvalidation_1-rmse:34487.8\tvalidation_1-mae:17695.9\n",
      "[65]\tvalidation_0-rmse:16359\tvalidation_0-mae:11560.6\tvalidation_1-rmse:34441\tvalidation_1-mae:17649.3\n",
      "[66]\tvalidation_0-rmse:16298.4\tvalidation_0-mae:11517.4\tvalidation_1-rmse:34383.6\tvalidation_1-mae:17602.4\n",
      "[67]\tvalidation_0-rmse:16256.2\tvalidation_0-mae:11501.6\tvalidation_1-rmse:34370.2\tvalidation_1-mae:17594.2\n",
      "[68]\tvalidation_0-rmse:16163.6\tvalidation_0-mae:11447.4\tvalidation_1-rmse:34439.2\tvalidation_1-mae:17628\n",
      "[69]\tvalidation_0-rmse:16061.7\tvalidation_0-mae:11397.9\tvalidation_1-rmse:34420.3\tvalidation_1-mae:17617.2\n",
      "[70]\tvalidation_0-rmse:15999\tvalidation_0-mae:11356.3\tvalidation_1-rmse:34374.4\tvalidation_1-mae:17565.3\n",
      "[71]\tvalidation_0-rmse:15960.7\tvalidation_0-mae:11337.6\tvalidation_1-rmse:34370.4\tvalidation_1-mae:17563.9\n",
      "[72]\tvalidation_0-rmse:15904.9\tvalidation_0-mae:11297.3\tvalidation_1-rmse:34360.3\tvalidation_1-mae:17555.8\n",
      "[73]\tvalidation_0-rmse:15833.6\tvalidation_0-mae:11248.8\tvalidation_1-rmse:34316.4\tvalidation_1-mae:17514.9\n",
      "[74]\tvalidation_0-rmse:15745.2\tvalidation_0-mae:11192.6\tvalidation_1-rmse:34310.8\tvalidation_1-mae:17506.6\n",
      "[75]\tvalidation_0-rmse:15686.9\tvalidation_0-mae:11170.9\tvalidation_1-rmse:34192.5\tvalidation_1-mae:17490.1\n",
      "[76]\tvalidation_0-rmse:15643.5\tvalidation_0-mae:11147.1\tvalidation_1-rmse:34207.3\tvalidation_1-mae:17502.5\n"
     ]
    },
    {
     "name": "stdout",
     "output_type": "stream",
     "text": [
      "[77]\tvalidation_0-rmse:15529.1\tvalidation_0-mae:11076.2\tvalidation_1-rmse:34226.5\tvalidation_1-mae:17489.4\n",
      "[78]\tvalidation_0-rmse:15459.8\tvalidation_0-mae:11048.4\tvalidation_1-rmse:34157.8\tvalidation_1-mae:17483.4\n",
      "[79]\tvalidation_0-rmse:15412.2\tvalidation_0-mae:11021.7\tvalidation_1-rmse:34137.3\tvalidation_1-mae:17479\n",
      "[80]\tvalidation_0-rmse:15334.1\tvalidation_0-mae:10976\tvalidation_1-rmse:34113.7\tvalidation_1-mae:17462.1\n",
      "[81]\tvalidation_0-rmse:15269\tvalidation_0-mae:10934.8\tvalidation_1-rmse:34163.7\tvalidation_1-mae:17491\n",
      "[82]\tvalidation_0-rmse:15241.2\tvalidation_0-mae:10923.7\tvalidation_1-rmse:34158.8\tvalidation_1-mae:17474\n",
      "[83]\tvalidation_0-rmse:15202.5\tvalidation_0-mae:10905.9\tvalidation_1-rmse:34109.8\tvalidation_1-mae:17445.6\n",
      "[84]\tvalidation_0-rmse:15148.7\tvalidation_0-mae:10870.8\tvalidation_1-rmse:34003.7\tvalidation_1-mae:17404.7\n",
      "[85]\tvalidation_0-rmse:15097.9\tvalidation_0-mae:10831.1\tvalidation_1-rmse:33990.3\tvalidation_1-mae:17374.6\n",
      "[86]\tvalidation_0-rmse:15034.3\tvalidation_0-mae:10792.2\tvalidation_1-rmse:33931.7\tvalidation_1-mae:17353.5\n",
      "[87]\tvalidation_0-rmse:14985.7\tvalidation_0-mae:10761.7\tvalidation_1-rmse:33914.6\tvalidation_1-mae:17343.2\n",
      "[88]\tvalidation_0-rmse:14938.8\tvalidation_0-mae:10740.2\tvalidation_1-rmse:33891.5\tvalidation_1-mae:17326\n",
      "[89]\tvalidation_0-rmse:14866.8\tvalidation_0-mae:10705.7\tvalidation_1-rmse:33900.6\tvalidation_1-mae:17327.3\n",
      "[90]\tvalidation_0-rmse:14824.8\tvalidation_0-mae:10691.4\tvalidation_1-rmse:33864\tvalidation_1-mae:17313\n",
      "[91]\tvalidation_0-rmse:14801.7\tvalidation_0-mae:10678.9\tvalidation_1-rmse:33853.9\tvalidation_1-mae:17311.5\n",
      "[92]\tvalidation_0-rmse:14748.4\tvalidation_0-mae:10648.3\tvalidation_1-rmse:33841.6\tvalidation_1-mae:17303.1\n",
      "[93]\tvalidation_0-rmse:14710.3\tvalidation_0-mae:10614.6\tvalidation_1-rmse:33828.2\tvalidation_1-mae:17290.8\n",
      "[94]\tvalidation_0-rmse:14658.8\tvalidation_0-mae:10583.2\tvalidation_1-rmse:33802.3\tvalidation_1-mae:17256.9\n",
      "[95]\tvalidation_0-rmse:14611.5\tvalidation_0-mae:10556\tvalidation_1-rmse:33746.1\tvalidation_1-mae:17247.3\n",
      "[96]\tvalidation_0-rmse:14565.6\tvalidation_0-mae:10527.2\tvalidation_1-rmse:33742.1\tvalidation_1-mae:17256.1\n",
      "[97]\tvalidation_0-rmse:14508.1\tvalidation_0-mae:10493.6\tvalidation_1-rmse:33815\tvalidation_1-mae:17286.5\n",
      "[98]\tvalidation_0-rmse:14484.4\tvalidation_0-mae:10478.3\tvalidation_1-rmse:33808.4\tvalidation_1-mae:17285\n",
      "[99]\tvalidation_0-rmse:14458.6\tvalidation_0-mae:10465.6\tvalidation_1-rmse:33828.1\tvalidation_1-mae:17292.5\n",
      "[100]\tvalidation_0-rmse:14400.7\tvalidation_0-mae:10427.9\tvalidation_1-rmse:33843.5\tvalidation_1-mae:17267.2\n",
      "[101]\tvalidation_0-rmse:14349\tvalidation_0-mae:10388.2\tvalidation_1-rmse:33818.9\tvalidation_1-mae:17235.1\n",
      "[102]\tvalidation_0-rmse:14280.1\tvalidation_0-mae:10340.4\tvalidation_1-rmse:33721.6\tvalidation_1-mae:17219.5\n",
      "[103]\tvalidation_0-rmse:14261.2\tvalidation_0-mae:10326.6\tvalidation_1-rmse:33719.7\tvalidation_1-mae:17222.1\n",
      "[104]\tvalidation_0-rmse:14237.8\tvalidation_0-mae:10317.2\tvalidation_1-rmse:33750.8\tvalidation_1-mae:17240.8\n",
      "[105]\tvalidation_0-rmse:14177.2\tvalidation_0-mae:10278.8\tvalidation_1-rmse:33715\tvalidation_1-mae:17239.4\n",
      "[106]\tvalidation_0-rmse:14131.1\tvalidation_0-mae:10246.6\tvalidation_1-rmse:33802.4\tvalidation_1-mae:17265.2\n",
      "[107]\tvalidation_0-rmse:14078.7\tvalidation_0-mae:10206.9\tvalidation_1-rmse:33784.7\tvalidation_1-mae:17258.8\n",
      "[108]\tvalidation_0-rmse:14023.8\tvalidation_0-mae:10164.6\tvalidation_1-rmse:33743.4\tvalidation_1-mae:17235.2\n",
      "[109]\tvalidation_0-rmse:13990.3\tvalidation_0-mae:10143.2\tvalidation_1-rmse:33735.5\tvalidation_1-mae:17235.4\n",
      "Stopping. Best iteration:\n",
      "[102]\tvalidation_0-rmse:14280.1\tvalidation_0-mae:10340.4\tvalidation_1-rmse:33721.6\tvalidation_1-mae:17219.5\n",
      "\n"
     ]
    },
    {
     "data": {
      "text/plain": [
       "XGBRegressor(base_score=0.5, booster='gbtree', colsample_bylevel=1,\n",
       "       colsample_bytree=1, gamma=0, learning_rate=0.1, max_delta_step=0,\n",
       "       max_depth=3, min_child_weight=1, missing=None, n_estimators=1000,\n",
       "       n_jobs=1, nthread=None, objective='reg:linear', random_state=0,\n",
       "       reg_alpha=0, reg_lambda=1, scale_pos_weight=1, seed=None,\n",
       "       silent=True, subsample=1)"
      ]
     },
     "execution_count": 74,
     "metadata": {},
     "output_type": "execute_result"
    }
   ],
   "source": [
    "eval_set = [(train_X, train_y), (test_X, test_y)]\n",
    "model.fit(train_X, train_y, eval_set=eval_set, eval_metric=['rmse','mae'], verbose=True, early_stopping_rounds=7)"
   ]
  },
  {
   "cell_type": "code",
   "execution_count": 75,
   "metadata": {},
   "outputs": [],
   "source": [
    "prediction = model.predict(test_X)\n",
    "predictions = [round(value) for value in prediction]"
   ]
  },
  {
   "cell_type": "code",
   "execution_count": 76,
   "metadata": {},
   "outputs": [],
   "source": [
    "from sklearn.metrics import accuracy_score\n",
    "accuracy = accuracy_score(test_y, predictions)"
   ]
  },
  {
   "cell_type": "code",
   "execution_count": 77,
   "metadata": {},
   "outputs": [
    {
     "name": "stdout",
     "output_type": "stream",
     "text": [
      "Accuracy: 0.00%\n"
     ]
    }
   ],
   "source": [
    "print(\"Accuracy: %.2f%%\" % (accuracy * 100.0))"
   ]
  },
  {
   "cell_type": "code",
   "execution_count": 78,
   "metadata": {},
   "outputs": [],
   "source": [
    "results = model.evals_result()\n",
    "epochs = len(results['validation_0']['rmse'])\n",
    "x_axis = range(0,epochs)"
   ]
  },
  {
   "cell_type": "code",
   "execution_count": 79,
   "metadata": {},
   "outputs": [
    {
     "data": {
      "image/png": "[encoded data removed]",
      "text/plain": [
       "<Figure size 432x288 with 1 Axes>"
      ]
     },
     "metadata": {},
     "output_type": "display_data"
    },
    {
     "data": {
      "text/plain": [
       "<Figure size 1080x1080 with 0 Axes>"
      ]
     },
     "metadata": {},
     "output_type": "display_data"
    }
   ],
   "source": [
    "fig, ax = plt.subplots()\n",
    "ax.plot(x_axis,results['validation_0']['rmse'],label='Train')\n",
    "ax.plot(x_axis,results['validation_1']['rmse'], label='Test')\n",
    "ax.legend()\n",
    "plt.xlabel= \"Epochs\"\n",
    "plt.ylabel= \"Root mean squared error\"\n",
    "plt.title= 'test'\n",
    "plt.figure(figsize=(15,15))\n",
    "plt.show()\n",
    "\n"
   ]
  },
  {
   "cell_type": "code",
   "execution_count": 80,
   "metadata": {},
   "outputs": [
    {
     "data": {
      "text/plain": [
       "[<matplotlib.lines.Line2D at 0x7f5cd5383c50>]"
      ]
     },
     "execution_count": 80,
     "metadata": {},
     "output_type": "execute_result"
    },
    {
     "data": {
      "image/png": "[encoded data removed]",
      "text/plain": [
       "<Figure size 1080x1080 with 1 Axes>"
      ]
     },
     "metadata": {},
     "output_type": "display_data"
    }
   ],
   "source": [
    "plt.figure(figsize=(15,15))\n",
    "plt.xlabel='test'\n",
    "plt.plot(x_axis,results['validation_0']['mae'])\n",
    "plt.plot(x_axis,results['validation_1']['mae'])"
   ]
  },
  {
   "cell_type": "code",
   "execution_count": 81,
   "metadata": {},
   "outputs": [
    {
     "data": {
      "text/plain": [
       "Index(['MSSubClass', 'LotFrontage', 'LotArea', 'OverallQual', 'OverallCond',\n",
       "       'YearBuilt', 'YearRemodAdd', 'MasVnrArea', 'BsmtFinSF1', 'BsmtFinSF2',\n",
       "       'BsmtUnfSF', 'TotalBsmtSF', '1stFlrSF', '2ndFlrSF', 'LowQualFinSF',\n",
       "       'GrLivArea', 'BsmtFullBath', 'BsmtHalfBath', 'FullBath', 'HalfBath',\n",
       "       'BedroomAbvGr', 'KitchenAbvGr', 'TotRmsAbvGrd', 'Fireplaces',\n",
       "       'GarageYrBlt', 'GarageCars', 'GarageArea', 'WoodDeckSF', 'OpenPorchSF',\n",
       "       'EnclosedPorch', '3SsnPorch', 'ScreenPorch', 'PoolArea', 'MiscVal',\n",
       "       'MoSold', 'YrSold', 'Neighborhood_Blmngtn', 'Neighborhood_Blueste',\n",
       "       'Neighborhood_BrDale', 'Neighborhood_BrkSide', 'Neighborhood_ClearCr',\n",
       "       'Neighborhood_CollgCr', 'Neighborhood_Crawfor', 'Neighborhood_Edwards',\n",
       "       'Neighborhood_Gilbert', 'Neighborhood_IDOTRR', 'Neighborhood_MeadowV',\n",
       "       'Neighborhood_Mitchel', 'Neighborhood_NAmes', 'Neighborhood_NPkVill',\n",
       "       'Neighborhood_NWAmes', 'Neighborhood_NoRidge', 'Neighborhood_NridgHt',\n",
       "       'Neighborhood_OldTown', 'Neighborhood_SWISU', 'Neighborhood_Sawyer',\n",
       "       'Neighborhood_SawyerW', 'Neighborhood_Somerst', 'Neighborhood_StoneBr',\n",
       "       'Neighborhood_Timber', 'Neighborhood_Veenker', 'MSZoning_C (all)',\n",
       "       'MSZoning_FV', 'MSZoning_RH', 'MSZoning_RL', 'MSZoning_RM'],\n",
       "      dtype='object')"
      ]
     },
     "execution_count": 81,
     "metadata": {},
     "output_type": "execute_result"
    }
   ],
   "source": [
    "train_X.columns"
   ]
  },
  {
   "cell_type": "code",
   "execution_count": 82,
   "metadata": {},
   "outputs": [
    {
     "data": {
      "text/plain": [
       "1459"
      ]
     },
     "execution_count": 82,
     "metadata": {},
     "output_type": "execute_result"
    }
   ],
   "source": [
    "len(df_test)"
   ]
  },
  {
   "cell_type": "code",
   "execution_count": 83,
   "metadata": {
    "scrolled": false
   },
   "outputs": [],
   "source": [
    "prediction = model.predict(X_test)\n",
    "sol = pd.DataFrame({'Id':df_test.Id,'SalePrice':prediction})\n",
    "sol.to_csv('output/solution_xgboost_with_location.csv',index=False)"
   ]
  },
  {
   "cell_type": "code",
   "execution_count": null,
   "metadata": {},
   "outputs": [],
   "source": []
  },
  {
   "cell_type": "code",
   "execution_count": null,
   "metadata": {},
   "outputs": [],
   "source": []
  },
  {
   "cell_type": "code",
   "execution_count": null,
   "metadata": {},
   "outputs": [],
   "source": []
  },
  {
   "cell_type": "code",
   "execution_count": null,
   "metadata": {},
   "outputs": [],
   "source": []
  },
  {
   "cell_type": "code",
   "execution_count": null,
   "metadata": {},
   "outputs": [],
   "source": []
  }
 ],
 "metadata": {
  "kernelspec": {
   "display_name": "house_prices-51WImSaM",
   "language": "python",
   "name": "house_prices-51wimsam"
  },
  "language_info": {
   "codemirror_mode": {
    "name": "ipython",
    "version": 3
   },
   "file_extension": ".py",
   "mimetype": "text/x-python",
   "name": "python",
   "nbconvert_exporter": "python",
   "pygments_lexer": "ipython3",
   "version": "3.6.5"
  }
 },
 "nbformat": 4,
 "nbformat_minor": 2
}
