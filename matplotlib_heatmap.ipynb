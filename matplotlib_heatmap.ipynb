{
 "cells": [
  {
   "cell_type": "code",
   "execution_count": 9,
   "metadata": {},
   "outputs": [],
   "source": [
    "import matplotlib\n",
    "import matplotlib.pyplot as plt\n",
    "import numpy as np\n",
    "from scipy.stats import pearsonr\n",
    "import pandas as pd\n"
   ]
  },
  {
   "cell_type": "code",
   "execution_count": 10,
   "metadata": {},
   "outputs": [],
   "source": [
    "train = pd.read_csv('data/train.csv')"
   ]
  },
  {
   "cell_type": "code",
   "execution_count": 41,
   "metadata": {},
   "outputs": [],
   "source": [
    "numeric = train.select_dtypes(np.number).columns.tolist()"
   ]
  },
  {
   "cell_type": "code",
   "execution_count": 42,
   "metadata": {},
   "outputs": [
    {
     "name": "stdout",
     "output_type": "stream",
     "text": [
      "<class 'pandas.core.frame.DataFrame'>\n",
      "RangeIndex: 1460 entries, 0 to 1459\n",
      "Data columns (total 38 columns):\n",
      "Id               1460 non-null int64\n",
      "MSSubClass       1460 non-null int64\n",
      "LotFrontage      1201 non-null float64\n",
      "LotArea          1460 non-null int64\n",
      "OverallQual      1460 non-null int64\n",
      "OverallCond      1460 non-null int64\n",
      "YearBuilt        1460 non-null int64\n",
      "YearRemodAdd     1460 non-null int64\n",
      "MasVnrArea       1452 non-null float64\n",
      "BsmtFinSF1       1460 non-null int64\n",
      "BsmtFinSF2       1460 non-null int64\n",
      "BsmtUnfSF        1460 non-null int64\n",
      "TotalBsmtSF      1460 non-null int64\n",
      "1stFlrSF         1460 non-null int64\n",
      "2ndFlrSF         1460 non-null int64\n",
      "LowQualFinSF     1460 non-null int64\n",
      "GrLivArea        1460 non-null int64\n",
      "BsmtFullBath     1460 non-null int64\n",
      "BsmtHalfBath     1460 non-null int64\n",
      "FullBath         1460 non-null int64\n",
      "HalfBath         1460 non-null int64\n",
      "BedroomAbvGr     1460 non-null int64\n",
      "KitchenAbvGr     1460 non-null int64\n",
      "TotRmsAbvGrd     1460 non-null int64\n",
      "Fireplaces       1460 non-null int64\n",
      "GarageYrBlt      1379 non-null float64\n",
      "GarageCars       1460 non-null int64\n",
      "GarageArea       1460 non-null int64\n",
      "WoodDeckSF       1460 non-null int64\n",
      "OpenPorchSF      1460 non-null int64\n",
      "EnclosedPorch    1460 non-null int64\n",
      "3SsnPorch        1460 non-null int64\n",
      "ScreenPorch      1460 non-null int64\n",
      "PoolArea         1460 non-null int64\n",
      "MiscVal          1460 non-null int64\n",
      "MoSold           1460 non-null int64\n",
      "YrSold           1460 non-null int64\n",
      "SalePrice        1460 non-null int64\n",
      "dtypes: float64(3), int64(35)\n",
      "memory usage: 433.5 KB\n"
     ]
    }
   ],
   "source": [
    "train[numeric].info()"
   ]
  },
  {
   "cell_type": "code",
   "execution_count": 49,
   "metadata": {},
   "outputs": [
    {
     "data": {
      "text/plain": [
       "<matplotlib.axes._subplots.AxesSubplot at 0x48f030b470>"
      ]
     },
     "execution_count": 49,
     "metadata": {},
     "output_type": "execute_result"
    },
    {
     "data": {
      "image/png": "[encoded data removed]",
      "text/plain": [
       "<Figure size 432x288 with 1 Axes>"
      ]
     },
     "metadata": {},
     "output_type": "display_data"
    }
   ],
   "source": [
    "train['Neighborhood'].value_counts().plot()"
   ]
  },
  {
   "cell_type": "code",
   "execution_count": 50,
   "metadata": {},
   "outputs": [
    {
     "data": {
      "text/plain": [
       "0        0\n",
       "1        1\n",
       "2        0\n",
       "3        2\n",
       "4        3\n",
       "5        4\n",
       "6        5\n",
       "7        6\n",
       "8        7\n",
       "9        8\n",
       "10       9\n",
       "11      10\n",
       "12       9\n",
       "13       0\n",
       "14      11\n",
       "15       8\n",
       "16      11\n",
       "17       9\n",
       "18      12\n",
       "19      11\n",
       "20      10\n",
       "21      13\n",
       "22       0\n",
       "23      14\n",
       "24       9\n",
       "25      10\n",
       "26      11\n",
       "27      10\n",
       "28      11\n",
       "29       8\n",
       "        ..\n",
       "1430    17\n",
       "1431    20\n",
       "1432     7\n",
       "1433    17\n",
       "1434     4\n",
       "1435    11\n",
       "1436    11\n",
       "1437    10\n",
       "1438     7\n",
       "1439     6\n",
       "1440     2\n",
       "1441     0\n",
       "1442     5\n",
       "1443     8\n",
       "1444     0\n",
       "1445     9\n",
       "1446     4\n",
       "1447     0\n",
       "1448    15\n",
       "1449    14\n",
       "1450    11\n",
       "1451     5\n",
       "1452    15\n",
       "1453     4\n",
       "1454     5\n",
       "1455    17\n",
       "1456     6\n",
       "1457     2\n",
       "1458    11\n",
       "1459    15\n",
       "Name: Neighborhood_cat, Length: 1460, dtype: int64"
      ]
     },
     "execution_count": 50,
     "metadata": {},
     "output_type": "execute_result"
    }
   ],
   "source": [
    "train['Neighborhood_cat'] = pd.factorize(train['Neighborhood'])[0]\n",
    "train['Neighborhood_cat']"
   ]
  },
  {
   "cell_type": "code",
   "execution_count": 32,
   "metadata": {},
   "outputs": [
    {
     "data": {
      "text/plain": [
       "(0.2638433538714056, 1.1231391549187896e-24)"
      ]
     },
     "execution_count": 32,
     "metadata": {},
     "output_type": "execute_result"
    }
   ],
   "source": [
    "pearsonr(train.SalePrice,train.LotArea)"
   ]
  },
  {
   "cell_type": "code",
   "execution_count": 62,
   "metadata": {},
   "outputs": [
    {
     "name": "stdout",
     "output_type": "stream",
     "text": [
      "1.0\n",
      "0.26\n",
      "0.52\n",
      "0.79\n",
      "0.71\n",
      "0.61\n",
      "0.39\n",
      "0.64\n",
      "0.26\n",
      "1.0\n",
      "0.01\n",
      "0.11\n",
      "0.26\n",
      "0.26\n",
      "0.21\n",
      "0.15\n",
      "0.52\n",
      "0.01\n",
      "1.0\n",
      "0.57\n",
      "0.2\n",
      "0.39\n",
      "0.25\n",
      "0.54\n",
      "0.79\n",
      "0.11\n",
      "0.57\n",
      "1.0\n",
      "0.59\n",
      "0.54\n",
      "0.24\n",
      "0.6\n",
      "0.71\n",
      "0.26\n",
      "0.2\n",
      "0.59\n",
      "1.0\n",
      "0.45\n",
      "0.21\n",
      "0.47\n",
      "0.61\n",
      "0.26\n",
      "0.39\n",
      "0.54\n",
      "0.45\n",
      "1.0\n",
      "0.52\n",
      "0.43\n",
      "0.39\n",
      "0.21\n",
      "0.25\n",
      "0.24\n",
      "0.21\n",
      "0.52\n",
      "1.0\n",
      "0.22\n",
      "0.64\n",
      "0.15\n",
      "0.54\n",
      "0.6\n",
      "0.47\n",
      "0.43\n",
      "0.22\n",
      "1.0\n"
     ]
    },
    {
     "data": {
      "text/plain": [
       "array([[1.  , 0.26, 0.52, 0.79, 0.71, 0.61, 0.39, 0.64],\n",
       "       [0.26, 1.  , 0.01, 0.11, 0.26, 0.26, 0.21, 0.15],\n",
       "       [0.52, 0.01, 1.  , 0.57, 0.2 , 0.39, 0.25, 0.54],\n",
       "       [0.79, 0.11, 0.57, 1.  , 0.59, 0.54, 0.24, 0.6 ],\n",
       "       [0.71, 0.26, 0.2 , 0.59, 1.  , 0.45, 0.21, 0.47],\n",
       "       [0.61, 0.26, 0.39, 0.54, 0.45, 1.  , 0.52, 0.43],\n",
       "       [0.39, 0.21, 0.25, 0.24, 0.21, 0.52, 1.  , 0.22],\n",
       "       [0.64, 0.15, 0.54, 0.6 , 0.47, 0.43, 0.22, 1.  ]])"
      ]
     },
     "execution_count": 62,
     "metadata": {},
     "output_type": "execute_result"
    }
   ],
   "source": [
    "cols = ['SalePrice', 'LotArea', 'YearBuilt', 'OverallQual', 'GrLivArea','TotalBsmtSF','BsmtFinSF1','GarageCars']\n",
    "train[cols].head()\n",
    "results = np.array([np.arange(len(cols)),np.arange(len(cols)),np.arange(len(cols)),np.arange(len(cols)),np.arange(len(cols)),np.arange(len(cols)),np.arange(len(cols)),np.arange(len(cols))],dtype=float)\n",
    "results\n",
    "for i in range(len(results)):\n",
    "    for j in range(len(cols)):\n",
    "        results[i,j] = np.round(pearsonr(train[cols[i]],train[cols[j]])[0],2)\n",
    "        print(results[i,j])\n",
    "results"
   ]
  },
  {
   "cell_type": "code",
   "execution_count": 63,
   "metadata": {},
   "outputs": [
    {
     "data": {
      "image/png": "[encoded data removed]",
      "text/plain": [
       "<Figure size 432x288 with 1 Axes>"
      ]
     },
     "metadata": {},
     "output_type": "display_data"
    }
   ],
   "source": [
    "\n",
    "fig, ax = plt.subplots()\n",
    "im = ax.imshow(results)\n",
    "ax.set_xticks(np.arange(len(cols)))\n",
    "ax.set_yticks(np.arange(len(cols)))\n",
    "# ... and label them with the respective list entries\n",
    "ax.set_xticklabels(cols)\n",
    "ax.set_yticklabels(cols)\n",
    "\n",
    "# Rotate the tick labels and set their alignment.\n",
    "plt.setp(ax.get_xticklabels(), rotation=45, ha=\"right\",\n",
    "         rotation_mode=\"anchor\")\n",
    "# Loop over data dimensions and create text annotations.\n",
    "for i in range(len(cols)):\n",
    "    for j in range(len(cols)):\n",
    "        text = ax.text(j, i, results[i, j],\n",
    "                       ha=\"center\", va=\"center\", color=\"w\")\n",
    "\n",
    "ax.set_title(\"Pearson correlation\")\n",
    "fig.tight_layout()\n",
    "plt.show()\n"
   ]
  },
  {
   "cell_type": "code",
   "execution_count": null,
   "metadata": {},
   "outputs": [],
   "source": []
  }
 ],
 "metadata": {
  "kernelspec": {
   "display_name": "Python 3",
   "language": "python",
   "name": "python3"
  },
  "language_info": {
   "codemirror_mode": {
    "name": "ipython",
    "version": 3
   },
   "file_extension": ".py",
   "mimetype": "text/x-python",
   "name": "python",
   "nbconvert_exporter": "python",
   "pygments_lexer": "ipython3",
   "version": "3.6.6"
  }
 },
 "nbformat": 4,
 "nbformat_minor": 2
}
