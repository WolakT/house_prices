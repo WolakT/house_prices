{
 "cells": [
  {
   "cell_type": "code",
   "execution_count": 1,
   "metadata": {},
   "outputs": [],
   "source": [
    "import pandas as pd\n",
    "import numpy as np\n",
    "from sklearn.metrics import mean_squared_error\n",
    "from sklearn.ensemble import RandomForestRegressor\n",
    "from sklearn.model_selection import train_test_split\n",
    "from sklearn.metrics import mean_absolute_error\n",
    "import matplotlib.pyplot as plt\n",
    "%matplotlib inline\n"
   ]
  },
  {
   "cell_type": "code",
   "execution_count": 2,
   "metadata": {},
   "outputs": [],
   "source": [
    "df_train= pd.read_csv('data/train.csv')"
   ]
  },
  {
   "cell_type": "code",
   "execution_count": 3,
   "metadata": {},
   "outputs": [],
   "source": [
    "df_test = pd.read_csv('data/test.csv')"
   ]
  },
  {
   "cell_type": "code",
   "execution_count": 40,
   "metadata": {},
   "outputs": [
    {
     "name": "stdout",
     "output_type": "stream",
     "text": [
      "<class 'pandas.core.frame.DataFrame'>\n",
      "RangeIndex: 1460 entries, 0 to 1459\n",
      "Columns: 290 entries, Id to SaleCondition_Partial\n",
      "dtypes: float64(3), int64(35), uint8(252)\n",
      "memory usage: 792.8 KB\n"
     ]
    }
   ],
   "source": [
    "one_hot_enc = pd.get_dummies(df_train)\n",
    "one_hot_enc.info()"
   ]
  },
  {
   "cell_type": "code",
   "execution_count": 5,
   "metadata": {},
   "outputs": [],
   "source": [
    "df_all = pd.concat([df_train, df_test], sort=False)"
   ]
  },
  {
   "cell_type": "code",
   "execution_count": 6,
   "metadata": {
    "scrolled": true
   },
   "outputs": [
    {
     "name": "stdout",
     "output_type": "stream",
     "text": [
      "<class 'pandas.core.frame.DataFrame'>\n",
      "Int64Index: 2919 entries, 0 to 1458\n",
      "Data columns (total 81 columns):\n",
      "Id               2919 non-null int64\n",
      "MSSubClass       2919 non-null int64\n",
      "MSZoning         2915 non-null object\n",
      "LotFrontage      2433 non-null float64\n",
      "LotArea          2919 non-null int64\n",
      "Street           2919 non-null object\n",
      "Alley            198 non-null object\n",
      "LotShape         2919 non-null object\n",
      "LandContour      2919 non-null object\n",
      "Utilities        2917 non-null object\n",
      "LotConfig        2919 non-null object\n",
      "LandSlope        2919 non-null object\n",
      "Neighborhood     2919 non-null object\n",
      "Condition1       2919 non-null object\n",
      "Condition2       2919 non-null object\n",
      "BldgType         2919 non-null object\n",
      "HouseStyle       2919 non-null object\n",
      "OverallQual      2919 non-null int64\n",
      "OverallCond      2919 non-null int64\n",
      "YearBuilt        2919 non-null int64\n",
      "YearRemodAdd     2919 non-null int64\n",
      "RoofStyle        2919 non-null object\n",
      "RoofMatl         2919 non-null object\n",
      "Exterior1st      2918 non-null object\n",
      "Exterior2nd      2918 non-null object\n",
      "MasVnrType       2895 non-null object\n",
      "MasVnrArea       2896 non-null float64\n",
      "ExterQual        2919 non-null object\n",
      "ExterCond        2919 non-null object\n",
      "Foundation       2919 non-null object\n",
      "BsmtQual         2838 non-null object\n",
      "BsmtCond         2837 non-null object\n",
      "BsmtExposure     2837 non-null object\n",
      "BsmtFinType1     2840 non-null object\n",
      "BsmtFinSF1       2918 non-null float64\n",
      "BsmtFinType2     2839 non-null object\n",
      "BsmtFinSF2       2918 non-null float64\n",
      "BsmtUnfSF        2918 non-null float64\n",
      "TotalBsmtSF      2918 non-null float64\n",
      "Heating          2919 non-null object\n",
      "HeatingQC        2919 non-null object\n",
      "CentralAir       2919 non-null object\n",
      "Electrical       2918 non-null object\n",
      "1stFlrSF         2919 non-null int64\n",
      "2ndFlrSF         2919 non-null int64\n",
      "LowQualFinSF     2919 non-null int64\n",
      "GrLivArea        2919 non-null int64\n",
      "BsmtFullBath     2917 non-null float64\n",
      "BsmtHalfBath     2917 non-null float64\n",
      "FullBath         2919 non-null int64\n",
      "HalfBath         2919 non-null int64\n",
      "BedroomAbvGr     2919 non-null int64\n",
      "KitchenAbvGr     2919 non-null int64\n",
      "KitchenQual      2918 non-null object\n",
      "TotRmsAbvGrd     2919 non-null int64\n",
      "Functional       2917 non-null object\n",
      "Fireplaces       2919 non-null int64\n",
      "FireplaceQu      1499 non-null object\n",
      "GarageType       2762 non-null object\n",
      "GarageYrBlt      2760 non-null float64\n",
      "GarageFinish     2760 non-null object\n",
      "GarageCars       2918 non-null float64\n",
      "GarageArea       2918 non-null float64\n",
      "GarageQual       2760 non-null object\n",
      "GarageCond       2760 non-null object\n",
      "PavedDrive       2919 non-null object\n",
      "WoodDeckSF       2919 non-null int64\n",
      "OpenPorchSF      2919 non-null int64\n",
      "EnclosedPorch    2919 non-null int64\n",
      "3SsnPorch        2919 non-null int64\n",
      "ScreenPorch      2919 non-null int64\n",
      "PoolArea         2919 non-null int64\n",
      "PoolQC           10 non-null object\n",
      "Fence            571 non-null object\n",
      "MiscFeature      105 non-null object\n",
      "MiscVal          2919 non-null int64\n",
      "MoSold           2919 non-null int64\n",
      "YrSold           2919 non-null int64\n",
      "SaleType         2918 non-null object\n",
      "SaleCondition    2919 non-null object\n",
      "SalePrice        1460 non-null float64\n",
      "dtypes: float64(12), int64(26), object(43)\n",
      "memory usage: 1.8+ MB\n"
     ]
    }
   ],
   "source": [
    "df_all.info()"
   ]
  },
  {
   "cell_type": "code",
   "execution_count": 7,
   "metadata": {},
   "outputs": [],
   "source": [
    "cols_with_missing = [col for col in df_all.columns\n",
    "                     if df_all[col].isnull().any()]"
   ]
  },
  {
   "cell_type": "code",
   "execution_count": 8,
   "metadata": {},
   "outputs": [
    {
     "name": "stdout",
     "output_type": "stream",
     "text": [
      "<class 'pandas.core.frame.DataFrame'>\n",
      "Int64Index: 2919 entries, 0 to 1458\n",
      "Data columns (total 35 columns):\n",
      "MSZoning        2915 non-null object\n",
      "LotFrontage     2433 non-null float64\n",
      "Alley           198 non-null object\n",
      "Utilities       2917 non-null object\n",
      "Exterior1st     2918 non-null object\n",
      "Exterior2nd     2918 non-null object\n",
      "MasVnrType      2895 non-null object\n",
      "MasVnrArea      2896 non-null float64\n",
      "BsmtQual        2838 non-null object\n",
      "BsmtCond        2837 non-null object\n",
      "BsmtExposure    2837 non-null object\n",
      "BsmtFinType1    2840 non-null object\n",
      "BsmtFinSF1      2918 non-null float64\n",
      "BsmtFinType2    2839 non-null object\n",
      "BsmtFinSF2      2918 non-null float64\n",
      "BsmtUnfSF       2918 non-null float64\n",
      "TotalBsmtSF     2918 non-null float64\n",
      "Electrical      2918 non-null object\n",
      "BsmtFullBath    2917 non-null float64\n",
      "BsmtHalfBath    2917 non-null float64\n",
      "KitchenQual     2918 non-null object\n",
      "Functional      2917 non-null object\n",
      "FireplaceQu     1499 non-null object\n",
      "GarageType      2762 non-null object\n",
      "GarageYrBlt     2760 non-null float64\n",
      "GarageFinish    2760 non-null object\n",
      "GarageCars      2918 non-null float64\n",
      "GarageArea      2918 non-null float64\n",
      "GarageQual      2760 non-null object\n",
      "GarageCond      2760 non-null object\n",
      "PoolQC          10 non-null object\n",
      "Fence           571 non-null object\n",
      "MiscFeature     105 non-null object\n",
      "SaleType        2918 non-null object\n",
      "SalePrice       1460 non-null float64\n",
      "dtypes: float64(12), object(23)\n",
      "memory usage: 821.0+ KB\n"
     ]
    }
   ],
   "source": [
    "df_all[cols_with_missing].info()"
   ]
  },
  {
   "cell_type": "code",
   "execution_count": 41,
   "metadata": {},
   "outputs": [],
   "source": [
    "def feature_engineering2(data):\n",
    "  #  non_numeric = data.select_dtypes(include=object).columns.tolist()\n",
    "   # categorize_cols(data, non_numeric)\n",
    "    one_hot_encoding = pd.get_dummies(data)\n",
    "    return one_hot_encoding"
   ]
  },
  {
   "cell_type": "code",
   "execution_count": 10,
   "metadata": {},
   "outputs": [],
   "source": [
    "def heal_cols(data,cols):\n",
    "    for col in cols:\n",
    "        data[col].fillna(value=int(data[col].mean()), inplace=True)\n",
    "    "
   ]
  },
  {
   "cell_type": "code",
   "execution_count": 11,
   "metadata": {},
   "outputs": [],
   "source": [
    "def feature_engineering(data):\n",
    "    data['Neighborhood_cat'] = pd.factorize(data.Neighborhood)[0]\n",
    "    data['LotShape_cat'] = pd.factorize(data.LotShape)[0]\n",
    "    data['BldgType_cat'] = pd.factorize(data.BldgType)[0]\n",
    "    data['HouseStyle_cat'] = pd.factorize(data.HouseStyle)[0]\n",
    "    data['MSZoning_cat'] = pd.factorize(data.MSZoning)[0]\n",
    "    "
   ]
  },
  {
   "cell_type": "code",
   "execution_count": 12,
   "metadata": {},
   "outputs": [],
   "source": [
    "def choose_cols(data):\n",
    "    black_list = ['Id', 'SalePrice']\n",
    "    choosen_cols = data.select_dtypes(include=np.number).columns.tolist()\n",
    "    for col in choosen_cols:\n",
    "        if col in black_list:\n",
    "            choosen_cols.remove(col)\n",
    "    return choosen_cols"
   ]
  },
  {
   "cell_type": "code",
   "execution_count": 13,
   "metadata": {},
   "outputs": [],
   "source": [
    "def categorize_cols(data, columns):\n",
    "    for col in columns:\n",
    "        data[col+\"_cat\"] = pd.factorize(data[col])[0]\n",
    "    return"
   ]
  },
  {
   "cell_type": "code",
   "execution_count": 14,
   "metadata": {},
   "outputs": [],
   "source": [
    "sub_train = pd.read_csv(\"data/train.csv\")"
   ]
  },
  {
   "cell_type": "code",
   "execution_count": 15,
   "metadata": {},
   "outputs": [
    {
     "name": "stdout",
     "output_type": "stream",
     "text": [
      "['MSSubClass', 'LotFrontage', 'LotArea', 'OverallQual', 'OverallCond', 'YearBuilt', 'YearRemodAdd', 'MasVnrArea', 'BsmtFinSF1', 'BsmtFinSF2', 'BsmtUnfSF', 'TotalBsmtSF', '1stFlrSF', '2ndFlrSF', 'LowQualFinSF', 'GrLivArea', 'BsmtFullBath', 'BsmtHalfBath', 'FullBath', 'HalfBath', 'BedroomAbvGr', 'KitchenAbvGr', 'TotRmsAbvGrd', 'Fireplaces', 'GarageYrBlt', 'GarageCars', 'GarageArea', 'WoodDeckSF', 'OpenPorchSF', 'EnclosedPorch', '3SsnPorch', 'ScreenPorch', 'PoolArea', 'MiscVal', 'MoSold', 'YrSold', 'MSZoning_cat', 'Street_cat', 'Alley_cat', 'LotShape_cat', 'LandContour_cat', 'Utilities_cat', 'LotConfig_cat', 'LandSlope_cat', 'Neighborhood_cat', 'Condition1_cat', 'Condition2_cat', 'BldgType_cat', 'HouseStyle_cat', 'RoofStyle_cat', 'RoofMatl_cat', 'Exterior1st_cat', 'Exterior2nd_cat', 'MasVnrType_cat', 'ExterQual_cat', 'ExterCond_cat', 'Foundation_cat', 'BsmtQual_cat', 'BsmtCond_cat', 'BsmtExposure_cat', 'BsmtFinType1_cat', 'BsmtFinType2_cat', 'Heating_cat', 'HeatingQC_cat', 'CentralAir_cat', 'Electrical_cat', 'KitchenQual_cat', 'Functional_cat', 'FireplaceQu_cat', 'GarageType_cat', 'GarageFinish_cat', 'GarageQual_cat', 'GarageCond_cat', 'PavedDrive_cat', 'PoolQC_cat', 'Fence_cat', 'MiscFeature_cat', 'SaleType_cat', 'SaleCondition_cat']\n",
      "79\n"
     ]
    }
   ],
   "source": [
    "feature_engineering2(sub_train)\n",
    "choosen_cols = choose_cols(sub_train)\n",
    "print(choosen_cols)\n",
    "print(len(choosen_cols))\n",
    "heal_cols(sub_train, choosen_cols)"
   ]
  },
  {
   "cell_type": "code",
   "execution_count": 16,
   "metadata": {},
   "outputs": [
    {
     "name": "stdout",
     "output_type": "stream",
     "text": [
      "<class 'pandas.core.frame.DataFrame'>\n",
      "RangeIndex: 1460 entries, 0 to 1459\n",
      "Columns: 124 entries, Id to SaleCondition_cat\n",
      "dtypes: float64(3), int64(78), object(43)\n",
      "memory usage: 1.4+ MB\n"
     ]
    }
   ],
   "source": [
    "sub_train.info()"
   ]
  },
  {
   "cell_type": "code",
   "execution_count": 17,
   "metadata": {},
   "outputs": [],
   "source": [
    "def mae(model, trX, valX, trY, valY):\n",
    "    model.fit(trX,trY)\n",
    "    #print(max(model.feature_importances_))\n",
    "    predictionTest = model.predict(valX)\n",
    "    predictionTrain = model.predict(trX)\n",
    "    return mean_absolute_error(valY, predictionTest), mean_absolute_error(trY,predictionTrain)"
   ]
  },
  {
   "cell_type": "code",
   "execution_count": 18,
   "metadata": {},
   "outputs": [],
   "source": [
    "def mse(model, trX, valX, trY, valY):\n",
    "    model.fit(trX,trY)\n",
    "    predictionTest = model.predict(valX)\n",
    "    predictionTrain = model.predict(trX)\n",
    "    return rmsle(valY, predictionTest), rmsle(trY,predictionTrain)\n",
    "    "
   ]
  },
  {
   "cell_type": "code",
   "execution_count": 19,
   "metadata": {},
   "outputs": [],
   "source": [
    "def rmsle(y_test, y_pred) : \n",
    "    assert len(y_test) == len(y_pred)\n",
    "    return np.sqrt(np.mean((np.log(1+y_pred) - np.log(1+y_test))**2))"
   ]
  },
  {
   "cell_type": "code",
   "execution_count": 20,
   "metadata": {},
   "outputs": [],
   "source": [
    "X = sub_train[choosen_cols]"
   ]
  },
  {
   "cell_type": "code",
   "execution_count": 21,
   "metadata": {},
   "outputs": [],
   "source": [
    "y = sub_train['SalePrice']"
   ]
  },
  {
   "cell_type": "code",
   "execution_count": 22,
   "metadata": {},
   "outputs": [],
   "source": [
    "def test_f(max_leaf_nodes):\n",
    "    test_model = RandomForestRegressor(n_estimators=max_leaf, max_leaf_nodes =max_leaf_nodes , random_state=42)\n",
    "    test_model.fit(X_train, y_train)\n",
    "    prediction = test_model.predict(X_test)\n",
    "    prediction2 = test_model.predict(X_train)\n",
    "    print(rmsle(y_test, prediction))\n",
    "    print(rmsle(y_train, prediction2))\n",
    "    return rmsle(y_test, prediction), rmsle(y_train, prediction2)\n"
   ]
  },
  {
   "cell_type": "code",
   "execution_count": 23,
   "metadata": {},
   "outputs": [],
   "source": [
    " X_train, X_test, y_train, y_test = train_test_split(X, y, test_size=0.33, random_state=42)"
   ]
  },
  {
   "cell_type": "code",
   "execution_count": 24,
   "metadata": {},
   "outputs": [
    {
     "name": "stdout",
     "output_type": "stream",
     "text": [
      "0.15566607510887231\n",
      "0.1115152429576041\n",
      "test result is 0\n",
      "0.14532446909723026\n",
      "0.07053386158519079\n",
      "test result is 0\n",
      "0.14567430527731723\n",
      "0.061764576042703655\n",
      "test result is 0\n",
      "0.1453857860306746\n",
      "0.060535870987616425\n",
      "test result is 0\n",
      "0.14565983484011522\n",
      "0.06071280158024161\n",
      "test result is 0\n"
     ]
    },
    {
     "data": {
      "image/png": "[encoded data removed]",
      "text/plain": [
       "<Figure size 1440x1440 with 1 Axes>"
      ]
     },
     "metadata": {},
     "output_type": "display_data"
    },
    {
     "name": "stdout",
     "output_type": "stream",
     "text": [
      "0.14532446909723026\n",
      "best max_leaf is 150\n"
     ]
    }
   ],
   "source": [
    "import math\n",
    "\n",
    "train_result = list()\n",
    "test_result = list()\n",
    "leafs = list()\n",
    "min_test = math.inf\n",
    "best_leaf = 5007\n",
    "for max_leaf in range(50,500,100):\n",
    "    model = RandomForestRegressor(n_estimators=max_leaf, max_leaf_nodes= 3050, n_jobs=-1)\n",
    "    test, train = test_f(max_leaf)\n",
    "   # test , train = test(model,X_train, X_test, y_train, y_test)\n",
    "    print('test result is %d' %(test))\n",
    "    train_result.append(train)\n",
    "    test_result.append(test)\n",
    "    min_test = min(min_test, test)\n",
    "    if min_test == test:\n",
    "        best_leaf = max_leaf\n",
    "    leafs.append(max_leaf)\n",
    "plt.figure(figsize=(20,20))\n",
    "plt.plot(leafs, train_result, 'bo-', label='Train')\n",
    "plt.plot(leafs, test_result, 'go-', label='Test')\n",
    "plt.legend(loc='best')\n",
    "plt.show()\n",
    "print(min_test)\n",
    "print('best max_leaf is %d'%(best_leaf))"
   ]
  },
  {
   "cell_type": "code",
   "execution_count": null,
   "metadata": {},
   "outputs": [],
   "source": []
  },
  {
   "cell_type": "code",
   "execution_count": null,
   "metadata": {},
   "outputs": [],
   "source": []
  },
  {
   "cell_type": "code",
   "execution_count": null,
   "metadata": {},
   "outputs": [],
   "source": []
  },
  {
   "cell_type": "code",
   "execution_count": 25,
   "metadata": {},
   "outputs": [],
   "source": [
    "important_cols = list()"
   ]
  },
  {
   "cell_type": "code",
   "execution_count": 26,
   "metadata": {},
   "outputs": [
    {
     "data": {
      "text/plain": [
       "[]"
      ]
     },
     "execution_count": 26,
     "metadata": {},
     "output_type": "execute_result"
    }
   ],
   "source": [
    "important_cols"
   ]
  },
  {
   "cell_type": "code",
   "execution_count": 27,
   "metadata": {},
   "outputs": [
    {
     "data": {
      "text/html": [
       "<div>\n",
       "<style scoped>\n",
       "    .dataframe tbody tr th:only-of-type {\n",
       "        vertical-align: middle;\n",
       "    }\n",
       "\n",
       "    .dataframe tbody tr th {\n",
       "        vertical-align: top;\n",
       "    }\n",
       "\n",
       "    .dataframe thead th {\n",
       "        text-align: right;\n",
       "    }\n",
       "</style>\n",
       "<table border=\"1\" class=\"dataframe\">\n",
       "  <thead>\n",
       "    <tr style=\"text-align: right;\">\n",
       "      <th></th>\n",
       "      <th>col1</th>\n",
       "      <th>col2</th>\n",
       "    </tr>\n",
       "  </thead>\n",
       "  <tbody>\n",
       "    <tr>\n",
       "      <th>0</th>\n",
       "      <td>2</td>\n",
       "      <td>2</td>\n",
       "    </tr>\n",
       "    <tr>\n",
       "      <th>1</th>\n",
       "      <td>2</td>\n",
       "      <td>4</td>\n",
       "    </tr>\n",
       "    <tr>\n",
       "      <th>2</th>\n",
       "      <td>5</td>\n",
       "      <td>5</td>\n",
       "    </tr>\n",
       "    <tr>\n",
       "      <th>3</th>\n",
       "      <td>adf</td>\n",
       "      <td>6</td>\n",
       "    </tr>\n",
       "  </tbody>\n",
       "</table>\n",
       "</div>"
      ],
      "text/plain": [
       "  col1  col2\n",
       "0    2     2\n",
       "1    2     4\n",
       "2    5     5\n",
       "3  adf     6"
      ]
     },
     "execution_count": 27,
     "metadata": {},
     "output_type": "execute_result"
    }
   ],
   "source": [
    "df1 = pd.DataFrame({'col1':['2','2','5','adf'],'col2':[2,4,5,6]})\n",
    "df2 = pd.DataFrame({'col2':[5,3,6,2,1,563,2]})\n",
    "df3 = pd.concat([df1, df2], sort=False)\n",
    "df3\n",
    "cond = df3.col1.notna()\n",
    "get_df1 = df3[cond]\n",
    "get_df1"
   ]
  },
  {
   "cell_type": "code",
   "execution_count": 42,
   "metadata": {},
   "outputs": [],
   "source": [
    "def make_prediction( model, data_all):\n",
    "    data_all = feature_engineering2(data_all)\n",
    "  #  choosen_cols = important_cols\n",
    "    choosen_cols = choose_cols(data_all)\n",
    "    heal_cols(data_all, choosen_cols)\n",
    "    print(choosen_cols)\n",
    "  #  heal_cols(test_data, choosen_cols)\n",
    "   # heal_cols(train_data, choosen_cols)\n",
    "    test_data = data_all[data_all.SalePrice.isnull()]\n",
    "    train_data = data_all[data_all.SalePrice.notna()]\n",
    "    test_X = test_data[choosen_cols]\n",
    "    train_X = train_data[choosen_cols]\n",
    "    train_y = train_data['SalePrice']\n",
    "    model.fit(train_X, train_y)\n",
    "    print(model.feature_importances_)\n",
    "    feature_importances = pd.DataFrame(model.feature_importances_, index = choosen_cols, columns=['importance']).sort_values('importance', ascending=False)\n",
    "    important_cols = feature_importances.index.tolist()[:11]\n",
    "    print(important_cols)\n",
    "    print(feature_importances)\n",
    "#   for i in range(0,len(model.feature_importances_)):\n",
    "  #      print('feature name %s \\t\\t feature importance %d'%(choosen_cols[i], np.round(model.feature_importances_[i],3)))\n",
    "    prediction = model.predict(test_X)\n",
    "    solution = pd.DataFrame({'Id':test_data.Id, 'SalePrice':prediction})\n",
    "    solution.to_csv('output/solution_more_cols_one_hot_encoding.csv', index=False)\n",
    "    return "
   ]
  },
  {
   "cell_type": "code",
   "execution_count": 43,
   "metadata": {},
   "outputs": [
    {
     "name": "stdout",
     "output_type": "stream",
     "text": [
      "['MSSubClass', 'LotFrontage', 'LotArea', 'OverallQual', 'OverallCond', 'YearBuilt', 'YearRemodAdd', 'MasVnrArea', 'BsmtFinSF1', 'BsmtFinSF2', 'BsmtUnfSF', 'TotalBsmtSF', '1stFlrSF', '2ndFlrSF', 'LowQualFinSF', 'GrLivArea', 'BsmtFullBath', 'BsmtHalfBath', 'FullBath', 'HalfBath', 'BedroomAbvGr', 'KitchenAbvGr', 'TotRmsAbvGrd', 'Fireplaces', 'GarageYrBlt', 'GarageCars', 'GarageArea', 'WoodDeckSF', 'OpenPorchSF', 'EnclosedPorch', '3SsnPorch', 'ScreenPorch', 'PoolArea', 'MiscVal', 'MoSold', 'YrSold', 'MSZoning_cat', 'Street_cat', 'Alley_cat', 'LotShape_cat', 'LandContour_cat', 'Utilities_cat', 'LotConfig_cat', 'LandSlope_cat', 'Neighborhood_cat', 'Condition1_cat', 'Condition2_cat', 'BldgType_cat', 'HouseStyle_cat', 'RoofStyle_cat', 'RoofMatl_cat', 'Exterior1st_cat', 'Exterior2nd_cat', 'MasVnrType_cat', 'ExterQual_cat', 'ExterCond_cat', 'Foundation_cat', 'BsmtQual_cat', 'BsmtCond_cat', 'BsmtExposure_cat', 'BsmtFinType1_cat', 'BsmtFinType2_cat', 'Heating_cat', 'HeatingQC_cat', 'CentralAir_cat', 'Electrical_cat', 'KitchenQual_cat', 'Functional_cat', 'FireplaceQu_cat', 'GarageType_cat', 'GarageFinish_cat', 'GarageQual_cat', 'GarageCond_cat', 'PavedDrive_cat', 'PoolQC_cat', 'Fence_cat', 'MiscFeature_cat', 'SaleType_cat', 'SaleCondition_cat', 'MSZoning_C (all)', 'MSZoning_FV', 'MSZoning_RH', 'MSZoning_RL', 'MSZoning_RM', 'Street_Grvl', 'Street_Pave', 'Alley_Grvl', 'Alley_Pave', 'LotShape_IR1', 'LotShape_IR2', 'LotShape_IR3', 'LotShape_Reg', 'LandContour_Bnk', 'LandContour_HLS', 'LandContour_Low', 'LandContour_Lvl', 'Utilities_AllPub', 'Utilities_NoSeWa', 'LotConfig_Corner', 'LotConfig_CulDSac', 'LotConfig_FR2', 'LotConfig_FR3', 'LotConfig_Inside', 'LandSlope_Gtl', 'LandSlope_Mod', 'LandSlope_Sev', 'Neighborhood_Blmngtn', 'Neighborhood_Blueste', 'Neighborhood_BrDale', 'Neighborhood_BrkSide', 'Neighborhood_ClearCr', 'Neighborhood_CollgCr', 'Neighborhood_Crawfor', 'Neighborhood_Edwards', 'Neighborhood_Gilbert', 'Neighborhood_IDOTRR', 'Neighborhood_MeadowV', 'Neighborhood_Mitchel', 'Neighborhood_NAmes', 'Neighborhood_NPkVill', 'Neighborhood_NWAmes', 'Neighborhood_NoRidge', 'Neighborhood_NridgHt', 'Neighborhood_OldTown', 'Neighborhood_SWISU', 'Neighborhood_Sawyer', 'Neighborhood_SawyerW', 'Neighborhood_Somerst', 'Neighborhood_StoneBr', 'Neighborhood_Timber', 'Neighborhood_Veenker', 'Condition1_Artery', 'Condition1_Feedr', 'Condition1_Norm', 'Condition1_PosA', 'Condition1_PosN', 'Condition1_RRAe', 'Condition1_RRAn', 'Condition1_RRNe', 'Condition1_RRNn', 'Condition2_Artery', 'Condition2_Feedr', 'Condition2_Norm', 'Condition2_PosA', 'Condition2_PosN', 'Condition2_RRAe', 'Condition2_RRAn', 'Condition2_RRNn', 'BldgType_1Fam', 'BldgType_2fmCon', 'BldgType_Duplex', 'BldgType_Twnhs', 'BldgType_TwnhsE', 'HouseStyle_1.5Fin', 'HouseStyle_1.5Unf', 'HouseStyle_1Story', 'HouseStyle_2.5Fin', 'HouseStyle_2.5Unf', 'HouseStyle_2Story', 'HouseStyle_SFoyer', 'HouseStyle_SLvl', 'RoofStyle_Flat', 'RoofStyle_Gable', 'RoofStyle_Gambrel', 'RoofStyle_Hip', 'RoofStyle_Mansard', 'RoofStyle_Shed', 'RoofMatl_ClyTile', 'RoofMatl_CompShg', 'RoofMatl_Membran', 'RoofMatl_Metal', 'RoofMatl_Roll', 'RoofMatl_Tar&Grv', 'RoofMatl_WdShake', 'RoofMatl_WdShngl', 'Exterior1st_AsbShng', 'Exterior1st_AsphShn', 'Exterior1st_BrkComm', 'Exterior1st_BrkFace', 'Exterior1st_CBlock', 'Exterior1st_CemntBd', 'Exterior1st_HdBoard', 'Exterior1st_ImStucc', 'Exterior1st_MetalSd', 'Exterior1st_Plywood', 'Exterior1st_Stone', 'Exterior1st_Stucco', 'Exterior1st_VinylSd', 'Exterior1st_Wd Sdng', 'Exterior1st_WdShing', 'Exterior2nd_AsbShng', 'Exterior2nd_AsphShn', 'Exterior2nd_Brk Cmn', 'Exterior2nd_BrkFace', 'Exterior2nd_CBlock', 'Exterior2nd_CmentBd', 'Exterior2nd_HdBoard', 'Exterior2nd_ImStucc', 'Exterior2nd_MetalSd', 'Exterior2nd_Other', 'Exterior2nd_Plywood', 'Exterior2nd_Stone', 'Exterior2nd_Stucco', 'Exterior2nd_VinylSd', 'Exterior2nd_Wd Sdng', 'Exterior2nd_Wd Shng', 'MasVnrType_BrkCmn', 'MasVnrType_BrkFace', 'MasVnrType_None', 'MasVnrType_Stone', 'ExterQual_Ex', 'ExterQual_Fa', 'ExterQual_Gd', 'ExterQual_TA', 'ExterCond_Ex', 'ExterCond_Fa', 'ExterCond_Gd', 'ExterCond_Po', 'ExterCond_TA', 'Foundation_BrkTil', 'Foundation_CBlock', 'Foundation_PConc', 'Foundation_Slab', 'Foundation_Stone', 'Foundation_Wood', 'BsmtQual_Ex', 'BsmtQual_Fa', 'BsmtQual_Gd', 'BsmtQual_TA', 'BsmtCond_Fa', 'BsmtCond_Gd', 'BsmtCond_Po', 'BsmtCond_TA', 'BsmtExposure_Av', 'BsmtExposure_Gd', 'BsmtExposure_Mn', 'BsmtExposure_No', 'BsmtFinType1_ALQ', 'BsmtFinType1_BLQ', 'BsmtFinType1_GLQ', 'BsmtFinType1_LwQ', 'BsmtFinType1_Rec', 'BsmtFinType1_Unf', 'BsmtFinType2_ALQ', 'BsmtFinType2_BLQ', 'BsmtFinType2_GLQ', 'BsmtFinType2_LwQ', 'BsmtFinType2_Rec', 'BsmtFinType2_Unf', 'Heating_Floor', 'Heating_GasA', 'Heating_GasW', 'Heating_Grav', 'Heating_OthW', 'Heating_Wall', 'HeatingQC_Ex', 'HeatingQC_Fa', 'HeatingQC_Gd', 'HeatingQC_Po', 'HeatingQC_TA', 'CentralAir_N', 'CentralAir_Y', 'Electrical_FuseA', 'Electrical_FuseF', 'Electrical_FuseP', 'Electrical_Mix', 'Electrical_SBrkr', 'KitchenQual_Ex', 'KitchenQual_Fa', 'KitchenQual_Gd', 'KitchenQual_TA', 'Functional_Maj1', 'Functional_Maj2', 'Functional_Min1', 'Functional_Min2', 'Functional_Mod', 'Functional_Sev', 'Functional_Typ', 'FireplaceQu_Ex', 'FireplaceQu_Fa', 'FireplaceQu_Gd', 'FireplaceQu_Po', 'FireplaceQu_TA', 'GarageType_2Types', 'GarageType_Attchd', 'GarageType_Basment', 'GarageType_BuiltIn', 'GarageType_CarPort', 'GarageType_Detchd', 'GarageFinish_Fin', 'GarageFinish_RFn', 'GarageFinish_Unf', 'GarageQual_Ex', 'GarageQual_Fa', 'GarageQual_Gd', 'GarageQual_Po', 'GarageQual_TA', 'GarageCond_Ex', 'GarageCond_Fa', 'GarageCond_Gd', 'GarageCond_Po', 'GarageCond_TA', 'PavedDrive_N', 'PavedDrive_P', 'PavedDrive_Y', 'PoolQC_Ex', 'PoolQC_Fa', 'PoolQC_Gd', 'Fence_GdPrv', 'Fence_GdWo', 'Fence_MnPrv', 'Fence_MnWw', 'MiscFeature_Gar2', 'MiscFeature_Othr', 'MiscFeature_Shed', 'MiscFeature_TenC', 'SaleType_COD', 'SaleType_CWD', 'SaleType_Con', 'SaleType_ConLD', 'SaleType_ConLI', 'SaleType_ConLw', 'SaleType_New', 'SaleType_Oth', 'SaleType_WD', 'SaleCondition_Abnorml', 'SaleCondition_AdjLand', 'SaleCondition_Alloca', 'SaleCondition_Family', 'SaleCondition_Normal', 'SaleCondition_Partial']\n",
      "[1.32594802e-03 7.09982914e-03 1.12766386e-02 5.88082306e-01\n",
      " 3.80562831e-03 8.43790475e-03 5.90791264e-03 3.66370558e-03\n",
      " 2.85987557e-02 3.88774803e-04 4.85237173e-03 3.72418761e-02\n",
      " 2.51225677e-02 2.87470759e-02 5.63240323e-05 1.05346757e-01\n",
      " 7.32039276e-04 1.30064756e-04 8.26731454e-03 9.61862951e-04\n",
      " 1.45176001e-03 5.35144583e-04 6.54131119e-03 1.84126142e-03\n",
      " 4.05633620e-03 2.09072065e-02 1.42882081e-02 4.14067151e-03\n",
      " 4.23039168e-03 6.22963363e-04 2.36669752e-04 6.66210279e-04\n",
      " 1.60949916e-04 2.55137123e-05 3.31139659e-03 1.26622837e-03\n",
      " 3.28522320e-04 2.47861195e-06 4.70765757e-04 1.11979087e-03\n",
      " 4.62526604e-04 0.00000000e+00 4.13119711e-04 1.82088943e-04\n",
      " 3.48695349e-03 2.01213964e-04 8.60910029e-06 1.38252017e-04\n",
      " 3.78694020e-04 3.25688258e-04 3.46499890e-05 1.43934221e-03\n",
      " 1.65471213e-03 5.59849972e-04 1.54642653e-03 2.77545565e-04\n",
      " 2.41536692e-04 1.47776917e-03 1.06289181e-04 8.60029332e-04\n",
      " 7.89241928e-04 1.46323010e-04 2.64837860e-05 4.11845648e-04\n",
      " 6.73485352e-04 5.30952865e-05 1.00153283e-03 3.36146260e-04\n",
      " 2.22350168e-03 5.40798609e-04 4.92241615e-04 7.07534486e-05\n",
      " 9.69167773e-05 7.76340171e-05 7.31716313e-05 2.19726273e-04\n",
      " 1.57142967e-05 2.74636136e-04 7.54907562e-04 2.07747027e-04\n",
      " 2.45974710e-05 2.10187093e-05 3.29545145e-04 1.04963091e-03\n",
      " 8.07409136e-07 1.18411733e-06 3.63246043e-05 3.72822042e-05\n",
      " 3.40461561e-04 5.26645327e-05 7.12620310e-06 4.26749868e-04\n",
      " 4.85736928e-04 1.57431412e-04 8.06422441e-05 2.00029232e-04\n",
      " 0.00000000e+00 7.96064312e-08 3.52972868e-04 4.04457328e-04\n",
      " 7.02926804e-05 3.05001286e-05 2.07134890e-04 9.07192701e-05\n",
      " 7.41318856e-05 6.91344918e-05 2.91249644e-05 1.47837524e-06\n",
      " 2.82607811e-07 5.23831827e-05 9.68880986e-05 1.24463208e-04\n",
      " 3.03961454e-04 1.02508398e-03 5.71210877e-05 9.30209513e-05\n",
      " 6.07724537e-06 2.30324562e-05 2.19146787e-04 3.39154435e-06\n",
      " 4.51727648e-05 5.40357579e-04 4.09545382e-04 3.65165599e-04\n",
      " 1.71798853e-05 1.11698080e-04 4.42140666e-05 8.63859547e-05\n",
      " 1.58864020e-04 2.67803729e-04 6.39565381e-06 6.48405795e-05\n",
      " 1.55968677e-04 1.56635265e-04 1.26714296e-05 1.84649933e-04\n",
      " 3.67242730e-05 1.29057459e-05 5.89868318e-07 8.07826223e-06\n",
      " 1.07687526e-05 6.63989635e-06 8.34375003e-05 6.89638252e-08\n",
      " 1.87577832e-04 0.00000000e+00 9.66207958e-12 1.18695624e-06\n",
      " 6.52231119e-05 5.21378266e-06 1.34444867e-05 4.12903380e-06\n",
      " 5.30120972e-05 9.14777000e-05 2.75402310e-06 1.17059869e-04\n",
      " 5.16264731e-06 1.78059988e-05 1.11089963e-04 1.19813222e-05\n",
      " 6.62471248e-05 1.32257077e-04 2.57549981e-04 5.26723288e-05\n",
      " 2.90274032e-04 1.49862782e-06 1.05587617e-07 6.14092839e-07\n",
      " 1.59403196e-04 2.39144671e-05 0.00000000e+00 0.00000000e+00\n",
      " 1.65315532e-06 8.84867097e-07 2.35216247e-05 1.67245818e-05\n",
      " 7.46918084e-06 3.77466508e-05 1.97383271e-04 0.00000000e+00\n",
      " 1.00156436e-04 1.38515156e-03 1.10871091e-07 2.37380437e-04\n",
      " 1.23205353e-04 5.37755901e-08 6.56100933e-05 1.86015399e-04\n",
      " 1.06288517e-04 7.66713944e-06 1.65560789e-06 3.56383686e-08\n",
      " 3.98615264e-05 7.79550561e-05 0.00000000e+00 8.78305873e-05\n",
      " 8.47142508e-04 6.27920927e-05 2.18739319e-04 1.93844243e-06\n",
      " 9.13991274e-05 1.48970188e-06 1.15014308e-05 3.88755627e-04\n",
      " 1.18451956e-04 6.59216862e-05 4.20142834e-05 3.03966252e-04\n",
      " 2.24441469e-04 3.55690978e-04 3.34479620e-04 2.85230379e-06\n",
      " 5.86575110e-04 6.44229753e-04 8.87648262e-07 1.57017927e-04\n",
      " 1.64045445e-04 1.59358562e-07 1.59390124e-04 7.94116053e-05\n",
      " 1.66902394e-04 1.23876105e-04 3.12708719e-06 1.92976099e-06\n",
      " 4.47366698e-07 1.11149183e-03 2.21897133e-05 2.09384369e-03\n",
      " 2.04416260e-04 5.87001625e-05 1.02929520e-04 6.85678789e-08\n",
      " 1.46185714e-04 9.35512574e-05 1.30923080e-03 1.05641952e-04\n",
      " 3.58137494e-04 2.85130129e-04 6.51688834e-05 4.59002899e-04\n",
      " 2.95968799e-05 9.32769596e-05 1.86914595e-04 2.86271548e-04\n",
      " 8.24378714e-05 2.89319852e-06 3.38732821e-05 4.94431714e-05\n",
      " 4.16580944e-05 9.28315725e-07 3.79056987e-05 8.64195971e-06\n",
      " 2.83200129e-06 2.43113660e-05 6.81786950e-07 1.38381500e-04\n",
      " 7.23266760e-05 1.73151095e-04 0.00000000e+00 2.34300115e-04\n",
      " 1.01527047e-03 1.14562274e-03 3.70097110e-05 1.49773545e-05\n",
      " 8.84329307e-07 2.56602119e-07 4.18003805e-05 7.46944314e-04\n",
      " 6.05263930e-06 9.39047806e-04 7.26049226e-04 8.57282613e-06\n",
      " 1.31418672e-05 8.93308699e-06 1.76191573e-05 1.04229347e-04\n",
      " 0.00000000e+00 3.16008137e-04 2.66658442e-04 9.52689952e-06\n",
      " 3.18799932e-04 4.27205600e-05 2.15119598e-04 9.79857986e-06\n",
      " 1.36461001e-03 2.12555316e-05 7.51096791e-05 2.72695229e-05\n",
      " 2.40891580e-03 3.43780322e-04 3.65952951e-04 6.36563817e-04\n",
      " 3.39401238e-06 3.53993781e-05 1.75528887e-05 3.29355662e-06\n",
      " 3.86122562e-04 1.17572852e-07 1.81845496e-05 2.02696546e-05\n",
      " 7.78043705e-06 3.17739919e-04 1.47793697e-04 2.62034722e-05\n",
      " 8.94379907e-05 3.07471892e-04 1.22247610e-06 6.73489538e-05\n",
      " 5.83059217e-05 5.67730546e-05 7.84912786e-05 2.65502295e-06\n",
      " 4.37289317e-07 9.01003276e-09 7.98846957e-06 0.00000000e+00\n",
      " 1.56492460e-05 4.04615269e-07 2.44197036e-06 6.18169405e-06\n",
      " 2.03751238e-06 6.48445982e-07 2.52907277e-04 2.49354120e-06\n",
      " 6.47349118e-04 2.64508550e-04 4.74061470e-07 2.79212605e-05\n",
      " 8.68475641e-05 2.87205533e-04 1.45815227e-04]\n",
      "['OverallQual', 'GrLivArea', 'TotalBsmtSF', '2ndFlrSF', 'BsmtFinSF1', '1stFlrSF', 'GarageCars', 'GarageArea', 'LotArea', 'YearBuilt', 'FullBath']\n",
      "                         importance\n",
      "OverallQual            5.880823e-01\n",
      "GrLivArea              1.053468e-01\n",
      "TotalBsmtSF            3.724188e-02\n",
      "2ndFlrSF               2.874708e-02\n",
      "BsmtFinSF1             2.859876e-02\n",
      "1stFlrSF               2.512257e-02\n",
      "GarageCars             2.090721e-02\n",
      "GarageArea             1.428821e-02\n",
      "LotArea                1.127664e-02\n",
      "YearBuilt              8.437905e-03\n",
      "FullBath               8.267315e-03\n",
      "LotFrontage            7.099829e-03\n",
      "TotRmsAbvGrd           6.541311e-03\n",
      "YearRemodAdd           5.907913e-03\n",
      "BsmtUnfSF              4.852372e-03\n",
      "OpenPorchSF            4.230392e-03\n",
      "WoodDeckSF             4.140672e-03\n",
      "GarageYrBlt            4.056336e-03\n",
      "OverallCond            3.805628e-03\n",
      "MasVnrArea             3.663706e-03\n",
      "Neighborhood_cat       3.486953e-03\n",
      "MoSold                 3.311397e-03\n",
      "GarageType_Detchd      2.408916e-03\n",
      "FireplaceQu_cat        2.223502e-03\n",
      "BsmtQual_Gd            2.093844e-03\n",
      "Fireplaces             1.841261e-03\n",
      "Exterior2nd_cat        1.654712e-03\n",
      "ExterQual_cat          1.546427e-03\n",
      "BsmtQual_cat           1.477769e-03\n",
      "BedroomAbvGr           1.451760e-03\n",
      "...                             ...\n",
      "SaleType_ConLw         6.484460e-07\n",
      "RoofMatl_ClyTile       6.140928e-07\n",
      "Condition1_RRNe        5.898683e-07\n",
      "SaleCondition_AdjLand  4.740615e-07\n",
      "Foundation_Wood        4.473667e-07\n",
      "MiscFeature_Gar2       4.372893e-07\n",
      "SaleType_CWD           4.046153e-07\n",
      "Neighborhood_BrDale    2.826078e-07\n",
      "Electrical_Mix         2.566021e-07\n",
      "ExterCond_Po           1.593586e-07\n",
      "GarageCond_Ex          1.175729e-07\n",
      "Exterior1st_ImStucc    1.108711e-07\n",
      "RoofStyle_Shed         1.055876e-07\n",
      "Utilities_NoSeWa       7.960643e-08\n",
      "Condition2_PosA        6.896383e-08\n",
      "BsmtCond_Po            6.856788e-08\n",
      "Exterior1st_Stone      5.377559e-08\n",
      "Exterior2nd_AsphShn    3.563837e-08\n",
      "MiscFeature_Othr       9.010033e-09\n",
      "Condition2_RRAn        9.662080e-12\n",
      "Condition2_RRAe        0.000000e+00\n",
      "Exterior2nd_CBlock     0.000000e+00\n",
      "HeatingQC_Po           0.000000e+00\n",
      "Exterior1st_CBlock     0.000000e+00\n",
      "RoofMatl_Metal         0.000000e+00\n",
      "Utilities_AllPub       0.000000e+00\n",
      "Utilities_cat          0.000000e+00\n",
      "Functional_Sev         0.000000e+00\n",
      "MiscFeature_TenC       0.000000e+00\n",
      "RoofMatl_Roll          0.000000e+00\n",
      "\n",
      "[331 rows x 1 columns]\n"
     ]
    }
   ],
   "source": [
    "model = RandomForestRegressor(n_estimators = 110, max_leaf_nodes=3050, n_jobs=-1, random_state = 0)\n",
    "important_cols = make_prediction(model, df_all)\n"
   ]
  },
  {
   "cell_type": "code",
   "execution_count": 30,
   "metadata": {},
   "outputs": [
    {
     "ename": "NameError",
     "evalue": "name 'avg_price_data' is not defined",
     "output_type": "error",
     "traceback": [
      "\u001b[1;31m---------------------------------------------------------------------------\u001b[0m",
      "\u001b[1;31mNameError\u001b[0m                                 Traceback (most recent call last)",
      "\u001b[1;32m<ipython-input-30-8456d69996b8>\u001b[0m in \u001b[0;36m<module>\u001b[1;34m()\u001b[0m\n\u001b[1;32m----> 1\u001b[1;33m \u001b[0mgrouped_data\u001b[0m \u001b[1;33m=\u001b[0m \u001b[0mavg_price_data\u001b[0m\u001b[1;33m.\u001b[0m\u001b[0mgroupby\u001b[0m\u001b[1;33m(\u001b[0m\u001b[1;34m'YearBuilt'\u001b[0m\u001b[1;33m)\u001b[0m\u001b[1;33m.\u001b[0m\u001b[0mmean\u001b[0m\u001b[1;33m(\u001b[0m\u001b[1;33m)\u001b[0m\u001b[1;33m\u001b[0m\u001b[0m\n\u001b[0m",
      "\u001b[1;31mNameError\u001b[0m: name 'avg_price_data' is not defined"
     ]
    }
   ],
   "source": [
    "grouped_data = avg_price_data.groupby('YearBuilt').mean()"
   ]
  },
  {
   "cell_type": "code",
   "execution_count": null,
   "metadata": {},
   "outputs": [],
   "source": [
    "grouped_data.sort_values('YearBuilt', inplace=True)\n",
    "grouped_data.head()"
   ]
  },
  {
   "cell_type": "code",
   "execution_count": null,
   "metadata": {},
   "outputs": [],
   "source": [
    "grouped_data.plot();"
   ]
  }
 ],
 "metadata": {
  "kernelspec": {
   "display_name": "Python 3",
   "language": "python",
   "name": "python3"
  },
  "language_info": {
   "codemirror_mode": {
    "name": "ipython",
    "version": 3
   },
   "file_extension": ".py",
   "mimetype": "text/x-python",
   "name": "python",
   "nbconvert_exporter": "python",
   "pygments_lexer": "ipython3",
   "version": "3.6.6"
  }
 },
 "nbformat": 4,
 "nbformat_minor": 2
}
